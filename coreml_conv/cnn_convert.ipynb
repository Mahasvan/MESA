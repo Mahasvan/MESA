{
 "cells": [
  {
   "metadata": {
    "ExecuteTime": {
     "end_time": "2025-07-27T07:11:22.962828Z",
     "start_time": "2025-07-27T07:11:22.929078Z"
    }
   },
   "cell_type": "code",
   "source": [
    "import torch\n",
    "import torch.nn as nn\n",
    "import torch.nn.functional as F\n",
    "\n",
    "# 1. Re-define the exact same model architecture\n",
    "class CNNTextClassifier(nn.Module):\n",
    "    def __init__(self, vocab_size, embedding_dim, n_filters, filter_size, hidden_dim):\n",
    "        super(CNNTextClassifier, self).__init__()\n",
    "        self.embedding = nn.Embedding(vocab_size, embedding_dim)\n",
    "        self.conv1 = nn.Conv1d(embedding_dim, n_filters, kernel_size=filter_size, padding='valid')\n",
    "        self.pool1 = nn.MaxPool1d(kernel_size=3)\n",
    "        self.conv2 = nn.Conv1d(n_filters, n_filters, kernel_size=filter_size, padding='valid')\n",
    "        self.pool2 = nn.MaxPool1d(kernel_size=3)\n",
    "        self.conv3 = nn.Conv1d(n_filters, n_filters, kernel_size=filter_size, padding='valid')\n",
    "        self.global_pool = nn.AdaptiveMaxPool1d(1)\n",
    "        self.fc1 = nn.Linear(n_filters, hidden_dim)\n",
    "        self.fc2 = nn.Linear(hidden_dim, 1)\n",
    "\n",
    "    def forward(self, input_ids):\n",
    "        embedded = self.embedding(input_ids).permute(0, 2, 1)\n",
    "        x = self.pool1(F.relu(self.conv1(embedded)))\n",
    "        x = self.pool2(F.relu(self.conv2(x)))\n",
    "        x = F.relu(self.conv3(x))\n",
    "        x = self.global_pool(x).squeeze(2)\n",
    "        x = F.relu(self.fc1(x))\n",
    "        output = torch.sigmoid(self.fc2(x))\n",
    "        return output\n",
    "\n",
    "# 2. Instantiate the model with the same parameters used during training\n",
    "model = CNNTextClassifier(\n",
    "    vocab_size=30522,\n",
    "    embedding_dim=50,\n",
    "    n_filters=128,\n",
    "    filter_size=3,\n",
    "    hidden_dim=128\n",
    ")\n",
    "\n",
    "# 3. Load the saved weights\n",
    "model.load_state_dict(torch.load(\"../cnn_model_trained_torch/cnn_model_trained_pytorch.pth\"))\n",
    "\n",
    "# 4. Set the model to evaluation mode\n",
    "model.eval()\n",
    "print(\"PyTorch model loaded and set to evaluation mode.\")"
   ],
   "id": "fa27203eabb8597a",
   "outputs": [
    {
     "name": "stdout",
     "output_type": "stream",
     "text": [
      "PyTorch model loaded and set to evaluation mode.\n"
     ]
    }
   ],
   "execution_count": 2
  },
  {
   "metadata": {
    "ExecuteTime": {
     "end_time": "2025-07-27T07:11:23.909686Z",
     "start_time": "2025-07-27T07:11:23.841899Z"
    }
   },
   "cell_type": "code",
   "source": [
    "# --- 3. Export to ONNX ---\n",
    "print(\"\\nExporting model to ONNX...\")\n",
    "dummy_input = torch.randint(0, 1000, (1, 128), dtype=torch.long)\n",
    "onnx_model_path = \"cnn_model.onnx\"\n",
    "torch.onnx.export(\n",
    "    model, dummy_input, onnx_model_path,\n",
    "    input_names=['input_ids'], output_names=['output'], opset_version=12\n",
    ")\n",
    "print(f\"Model exported to {onnx_model_path}\")"
   ],
   "id": "30fe563785d74370",
   "outputs": [
    {
     "name": "stdout",
     "output_type": "stream",
     "text": [
      "\n",
      "Exporting model to ONNX...\n",
      "Model exported to cnn_model.onnx\n"
     ]
    }
   ],
   "execution_count": 3
  },
  {
   "metadata": {
    "ExecuteTime": {
     "end_time": "2025-07-27T07:11:25.502798Z",
     "start_time": "2025-07-27T07:11:24.650429Z"
    }
   },
   "cell_type": "code",
   "source": [
    "import coremltools as ct\n",
    "\n",
    "dummy_input = torch.randint(0, 1000, (1, 128), dtype=torch.long)\n",
    "\n",
    "traced_model = torch.jit.trace(model, dummy_input)\n",
    "exported_program = torch.export.export(model, (dummy_input, ))\n",
    "\n",
    "model_from_trace = ct.convert(\n",
    "    traced_model,\n",
    "    inputs=[ct.TensorType(shape=dummy_input.shape)],\n",
    ")\n",
    "model_from_export = ct.convert(exported_program)"
   ],
   "id": "ebebcab87e030f93",
   "outputs": [
    {
     "name": "stderr",
     "output_type": "stream",
     "text": [
      "When both 'convert_to' and 'minimum_deployment_target' not specified, 'convert_to' is set to \"mlprogram\" and 'minimum_deployment_target' is set to ct.target.iOS15 (which is same as ct.target.macOS12). Note: the model will not run on systems older than iOS15/macOS12/watchOS8/tvOS15. In order to make your model run on older system, please set the 'minimum_deployment_target' to iOS14/iOS13. Details please see the link: https://apple.github.io/coremltools/docs-guides/source/target-conversion-formats.html\n",
      "Converting PyTorch Frontend ==> MIL Ops:  98%|█████████▊| 52/53 [00:00<00:00, 6798.11 ops/s]\n",
      "Running MIL frontend_pytorch pipeline: 100%|██████████| 5/5 [00:00<00:00, 1681.22 passes/s]\n",
      "Running MIL default pipeline:   0%|          | 0/89 [00:00<?, ? passes/s]/Users/mahas/PycharmProjects/STIRS/.venv/lib/python3.9/site-packages/coremltools/converters/mil/mil/passes/defs/preprocess.py:273: UserWarning: Output, '72', of the source model, has been renamed to 'var_72' in the Core ML model.\n",
      "  warnings.warn(msg.format(var.name, new_name))\n",
      "Running MIL default pipeline: 100%|██████████| 89/89 [00:00<00:00, 779.48 passes/s]\n",
      "Running MIL backend_mlprogram pipeline: 100%|██████████| 12/12 [00:00<00:00, 1902.39 passes/s]\n",
      "When both 'convert_to' and 'minimum_deployment_target' not specified, 'convert_to' is set to \"mlprogram\" and 'minimum_deployment_target' is set to ct.target.iOS15 (which is same as ct.target.macOS12). Note: the model will not run on systems older than iOS15/macOS12/watchOS8/tvOS15. In order to make your model run on older system, please set the 'minimum_deployment_target' to iOS14/iOS13. Details please see the link: https://apple.github.io/coremltools/docs-guides/source/target-conversion-formats.html\n"
     ]
    },
    {
     "ename": "NotImplementedError",
     "evalue": "Conversion for models with only ATEN or EDGE dialect is supported/tested. Provided Dialect: TRAINING",
     "output_type": "error",
     "traceback": [
      "\u001B[0;31m---------------------------------------------------------------------------\u001B[0m",
      "\u001B[0;31mNotImplementedError\u001B[0m                       Traceback (most recent call last)",
      "Cell \u001B[0;32mIn[4], line 12\u001B[0m\n\u001B[1;32m      6\u001B[0m exported_program \u001B[38;5;241m=\u001B[39m torch\u001B[38;5;241m.\u001B[39mexport\u001B[38;5;241m.\u001B[39mexport(model, (dummy_input, ))\n\u001B[1;32m      8\u001B[0m model_from_trace \u001B[38;5;241m=\u001B[39m ct\u001B[38;5;241m.\u001B[39mconvert(\n\u001B[1;32m      9\u001B[0m     traced_model,\n\u001B[1;32m     10\u001B[0m     inputs\u001B[38;5;241m=\u001B[39m[ct\u001B[38;5;241m.\u001B[39mTensorType(shape\u001B[38;5;241m=\u001B[39mdummy_input\u001B[38;5;241m.\u001B[39mshape)],\n\u001B[1;32m     11\u001B[0m )\n\u001B[0;32m---> 12\u001B[0m model_from_export \u001B[38;5;241m=\u001B[39m \u001B[43mct\u001B[49m\u001B[38;5;241;43m.\u001B[39;49m\u001B[43mconvert\u001B[49m\u001B[43m(\u001B[49m\u001B[43mexported_program\u001B[49m\u001B[43m)\u001B[49m\n",
      "File \u001B[0;32m~/PycharmProjects/STIRS/.venv/lib/python3.9/site-packages/coremltools/converters/_converters_entry.py:585\u001B[0m, in \u001B[0;36mconvert\u001B[0;34m(model, source, inputs, outputs, classifier_config, minimum_deployment_target, convert_to, compute_precision, skip_model_load, compute_units, package_dir, debug, pass_pipeline, states)\u001B[0m\n\u001B[1;32m    583\u001B[0m source_dialect \u001B[38;5;241m=\u001B[39m _determine_source_dialect(model, exact_source)\n\u001B[1;32m    584\u001B[0m exact_target \u001B[38;5;241m=\u001B[39m _determine_target(convert_to, minimum_deployment_target)\n\u001B[0;32m--> 585\u001B[0m \u001B[43m_validate_conversion_arguments\u001B[49m\u001B[43m(\u001B[49m\n\u001B[1;32m    586\u001B[0m \u001B[43m    \u001B[49m\u001B[43mmodel\u001B[49m\u001B[43m,\u001B[49m\n\u001B[1;32m    587\u001B[0m \u001B[43m    \u001B[49m\u001B[43mexact_source\u001B[49m\u001B[43m,\u001B[49m\n\u001B[1;32m    588\u001B[0m \u001B[43m    \u001B[49m\u001B[43mexact_target\u001B[49m\u001B[43m,\u001B[49m\n\u001B[1;32m    589\u001B[0m \u001B[43m    \u001B[49m\u001B[43minputs\u001B[49m\u001B[43m,\u001B[49m\n\u001B[1;32m    590\u001B[0m \u001B[43m    \u001B[49m\u001B[43moutputs_as_tensor_or_image_types\u001B[49m\u001B[43m,\u001B[49m\n\u001B[1;32m    591\u001B[0m \u001B[43m    \u001B[49m\u001B[43mclassifier_config\u001B[49m\u001B[43m,\u001B[49m\n\u001B[1;32m    592\u001B[0m \u001B[43m    \u001B[49m\u001B[43mcompute_precision\u001B[49m\u001B[43m,\u001B[49m\n\u001B[1;32m    593\u001B[0m \u001B[43m    \u001B[49m\u001B[43mexact_target\u001B[49m\u001B[43m,\u001B[49m\n\u001B[1;32m    594\u001B[0m \u001B[43m    \u001B[49m\u001B[43mminimum_deployment_target\u001B[49m\u001B[43m,\u001B[49m\n\u001B[1;32m    595\u001B[0m \u001B[43m\u001B[49m\u001B[43m)\u001B[49m\n\u001B[1;32m    596\u001B[0m need_fp16_cast_pass \u001B[38;5;241m=\u001B[39m _need_fp16_cast_pass(compute_precision, exact_target)\n\u001B[1;32m    598\u001B[0m \u001B[38;5;28;01mif\u001B[39;00m pass_pipeline \u001B[38;5;129;01mis\u001B[39;00m \u001B[38;5;28;01mNone\u001B[39;00m:\n",
      "File \u001B[0;32m~/PycharmProjects/STIRS/.venv/lib/python3.9/site-packages/coremltools/converters/_converters_entry.py:923\u001B[0m, in \u001B[0;36m_validate_conversion_arguments\u001B[0;34m(model, exact_source, exact_target, inputs, outputs, classifier_config, compute_precision, convert_to, minimum_deployment_target)\u001B[0m\n\u001B[1;32m    921\u001B[0m \u001B[38;5;28;01mif\u001B[39;00m _HAS_TORCH_EXPORT_API \u001B[38;5;129;01mand\u001B[39;00m \u001B[38;5;28misinstance\u001B[39m(model, ExportedProgram):\n\u001B[1;32m    922\u001B[0m     \u001B[38;5;28;01mif\u001B[39;00m model\u001B[38;5;241m.\u001B[39mdialect \u001B[38;5;129;01mnot\u001B[39;00m \u001B[38;5;129;01min\u001B[39;00m (\u001B[38;5;124m\"\u001B[39m\u001B[38;5;124mATEN\u001B[39m\u001B[38;5;124m\"\u001B[39m, \u001B[38;5;124m\"\u001B[39m\u001B[38;5;124mEDGE\u001B[39m\u001B[38;5;124m\"\u001B[39m):\n\u001B[0;32m--> 923\u001B[0m         \u001B[38;5;28;01mraise\u001B[39;00m \u001B[38;5;167;01mNotImplementedError\u001B[39;00m(\n\u001B[1;32m    924\u001B[0m             \u001B[38;5;124mf\u001B[39m\u001B[38;5;124m\"\u001B[39m\u001B[38;5;124mConversion for models with only ATEN or EDGE dialect is supported/tested. Provided Dialect: \u001B[39m\u001B[38;5;132;01m{\u001B[39;00mmodel\u001B[38;5;241m.\u001B[39mdialect\u001B[38;5;132;01m}\u001B[39;00m\u001B[38;5;124m\"\u001B[39m\n\u001B[1;32m    925\u001B[0m         )\n\u001B[1;32m    927\u001B[0m \u001B[38;5;28;01melse\u001B[39;00m:\n\u001B[1;32m    928\u001B[0m     \u001B[38;5;28;01mif\u001B[39;00m is_torch_model(model):\n",
      "\u001B[0;31mNotImplementedError\u001B[0m: Conversion for models with only ATEN or EDGE dialect is supported/tested. Provided Dialect: TRAINING"
     ]
    }
   ],
   "execution_count": 4
  },
  {
   "metadata": {
    "ExecuteTime": {
     "end_time": "2025-07-27T07:11:37.078758Z",
     "start_time": "2025-07-27T07:11:36.986078Z"
    }
   },
   "cell_type": "code",
   "source": "model_from_trace.save(\"newmodel_from_trace.mlpackage\")",
   "id": "17645866171b4215",
   "outputs": [],
   "execution_count": 5
  },
  {
   "metadata": {},
   "cell_type": "code",
   "outputs": [],
   "execution_count": null,
   "source": "",
   "id": "5c1d6ba7b7ea68fe"
  }
 ],
 "metadata": {
  "kernelspec": {
   "display_name": "Python 3",
   "language": "python",
   "name": "python3"
  },
  "language_info": {
   "codemirror_mode": {
    "name": "ipython",
    "version": 2
   },
   "file_extension": ".py",
   "mimetype": "text/x-python",
   "name": "python",
   "nbconvert_exporter": "python",
   "pygments_lexer": "ipython2",
   "version": "2.7.6"
  }
 },
 "nbformat": 4,
 "nbformat_minor": 5
}
