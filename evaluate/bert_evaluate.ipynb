{
 "cells": [
  {
   "cell_type": "code",
   "id": "initial_id",
   "metadata": {
    "collapsed": true,
    "ExecuteTime": {
     "end_time": "2025-07-22T15:57:35.640826Z",
     "start_time": "2025-07-22T15:57:35.636152Z"
    }
   },
   "source": "import pandas as pd",
   "outputs": [],
   "execution_count": 37
  },
  {
   "metadata": {
    "ExecuteTime": {
     "end_time": "2025-07-22T15:57:40.609581Z",
     "start_time": "2025-07-22T15:57:36.390190Z"
    }
   },
   "cell_type": "code",
   "source": [
    "df = pd.read_csv(\"../jigsaw/dataset_text_target.csv\")\n",
    "df_true = df[df.target > 0.5]\n",
    "df_false = df[df.target <= 0.5]"
   ],
   "id": "fa85debf16c3e21e",
   "outputs": [],
   "execution_count": 38
  },
  {
   "metadata": {
    "ExecuteTime": {
     "end_time": "2025-07-22T15:57:40.629158Z",
     "start_time": "2025-07-22T15:57:40.621963Z"
    }
   },
   "cell_type": "code",
   "source": "df_true",
   "id": "707c11e12d74cb31",
   "outputs": [
    {
     "data": {
      "text/plain": [
       "                                              comment_text    target\n",
       "4                     haha you guys are a bunch of losers.  0.893617\n",
       "5                                     ur a sh*tty comment.  0.666667\n",
       "13       It's ridiculous that these guys are being call...  0.600000\n",
       "31       Yet call out all Muslims for the acts of a few...  0.912500\n",
       "34       This bitch is nuts. Who would read a book by a...  0.830769\n",
       "...                                                    ...       ...\n",
       "1804786  A sexual predator lives in the White House now...  0.600000\n",
       "1804825  Who is the jerk in the last row between the C ...  0.833333\n",
       "1804838  Nobody really cares that she supports the scie...  0.700000\n",
       "1804857  I take your point, but I think you're shooting...  0.700000\n",
       "1804872  Anyone who is quoted as having the following e...  0.621212\n",
       "\n",
       "[106438 rows x 2 columns]"
      ],
      "text/html": [
       "<div>\n",
       "<style scoped>\n",
       "    .dataframe tbody tr th:only-of-type {\n",
       "        vertical-align: middle;\n",
       "    }\n",
       "\n",
       "    .dataframe tbody tr th {\n",
       "        vertical-align: top;\n",
       "    }\n",
       "\n",
       "    .dataframe thead th {\n",
       "        text-align: right;\n",
       "    }\n",
       "</style>\n",
       "<table border=\"1\" class=\"dataframe\">\n",
       "  <thead>\n",
       "    <tr style=\"text-align: right;\">\n",
       "      <th></th>\n",
       "      <th>comment_text</th>\n",
       "      <th>target</th>\n",
       "    </tr>\n",
       "  </thead>\n",
       "  <tbody>\n",
       "    <tr>\n",
       "      <th>4</th>\n",
       "      <td>haha you guys are a bunch of losers.</td>\n",
       "      <td>0.893617</td>\n",
       "    </tr>\n",
       "    <tr>\n",
       "      <th>5</th>\n",
       "      <td>ur a sh*tty comment.</td>\n",
       "      <td>0.666667</td>\n",
       "    </tr>\n",
       "    <tr>\n",
       "      <th>13</th>\n",
       "      <td>It's ridiculous that these guys are being call...</td>\n",
       "      <td>0.600000</td>\n",
       "    </tr>\n",
       "    <tr>\n",
       "      <th>31</th>\n",
       "      <td>Yet call out all Muslims for the acts of a few...</td>\n",
       "      <td>0.912500</td>\n",
       "    </tr>\n",
       "    <tr>\n",
       "      <th>34</th>\n",
       "      <td>This bitch is nuts. Who would read a book by a...</td>\n",
       "      <td>0.830769</td>\n",
       "    </tr>\n",
       "    <tr>\n",
       "      <th>...</th>\n",
       "      <td>...</td>\n",
       "      <td>...</td>\n",
       "    </tr>\n",
       "    <tr>\n",
       "      <th>1804786</th>\n",
       "      <td>A sexual predator lives in the White House now...</td>\n",
       "      <td>0.600000</td>\n",
       "    </tr>\n",
       "    <tr>\n",
       "      <th>1804825</th>\n",
       "      <td>Who is the jerk in the last row between the C ...</td>\n",
       "      <td>0.833333</td>\n",
       "    </tr>\n",
       "    <tr>\n",
       "      <th>1804838</th>\n",
       "      <td>Nobody really cares that she supports the scie...</td>\n",
       "      <td>0.700000</td>\n",
       "    </tr>\n",
       "    <tr>\n",
       "      <th>1804857</th>\n",
       "      <td>I take your point, but I think you're shooting...</td>\n",
       "      <td>0.700000</td>\n",
       "    </tr>\n",
       "    <tr>\n",
       "      <th>1804872</th>\n",
       "      <td>Anyone who is quoted as having the following e...</td>\n",
       "      <td>0.621212</td>\n",
       "    </tr>\n",
       "  </tbody>\n",
       "</table>\n",
       "<p>106438 rows × 2 columns</p>\n",
       "</div>"
      ]
     },
     "execution_count": 39,
     "metadata": {},
     "output_type": "execute_result"
    }
   ],
   "execution_count": 39
  },
  {
   "metadata": {
    "ExecuteTime": {
     "end_time": "2025-07-22T15:57:41.523098Z",
     "start_time": "2025-07-22T15:57:41.519747Z"
    }
   },
   "cell_type": "code",
   "source": "DATASET_SIZE = 10_000",
   "id": "139db41036847feb",
   "outputs": [],
   "execution_count": 40
  },
  {
   "metadata": {
    "ExecuteTime": {
     "end_time": "2025-07-22T15:57:42.010498Z",
     "start_time": "2025-07-22T15:57:41.990966Z"
    }
   },
   "cell_type": "code",
   "source": "df = pd.concat([df_true[:DATASET_SIZE//2], df_false[:DATASET_SIZE//2]], axis=0)",
   "id": "580952eb461fd471",
   "outputs": [],
   "execution_count": 41
  },
  {
   "metadata": {
    "ExecuteTime": {
     "end_time": "2025-07-22T15:57:43.613568Z",
     "start_time": "2025-07-22T15:57:43.542572Z"
    }
   },
   "cell_type": "code",
   "source": "df.target.hist()",
   "id": "4feaa356c3ad14d9",
   "outputs": [
    {
     "data": {
      "text/plain": [
       "<Axes: >"
      ]
     },
     "execution_count": 42,
     "metadata": {},
     "output_type": "execute_result"
    },
    {
     "data": {
      "text/plain": [
       "<Figure size 640x480 with 1 Axes>"
      ],
      "image/png": "[encoded data removed]"
     },
     "metadata": {},
     "output_type": "display_data"
    }
   ],
   "execution_count": 42
  },
  {
   "metadata": {
    "ExecuteTime": {
     "end_time": "2025-07-22T15:57:46.612287Z",
     "start_time": "2025-07-22T15:57:46.603788Z"
    }
   },
   "cell_type": "code",
   "source": [
    "mapper = lambda x: 1 if x > 0.5 else 0\n",
    "df.target = df.target.apply(mapper)"
   ],
   "id": "e30e93cb26af7c85",
   "outputs": [],
   "execution_count": 43
  },
  {
   "metadata": {
    "ExecuteTime": {
     "end_time": "2025-07-22T15:57:46.797737Z",
     "start_time": "2025-07-22T15:57:46.794743Z"
    }
   },
   "cell_type": "code",
   "source": "from transformers import BertTokenizer, TFBertForSequenceClassification",
   "id": "5daf79c277433bd2",
   "outputs": [],
   "execution_count": 44
  },
  {
   "metadata": {
    "ExecuteTime": {
     "end_time": "2025-07-22T15:57:47.227186Z",
     "start_time": "2025-07-22T15:57:47.214335Z"
    }
   },
   "cell_type": "code",
   "source": [
    "from sklearn.model_selection import train_test_split\n",
    "x_train, x_test, y_train, y_test = train_test_split(df.comment_text, df.target, test_size=0.2, random_state=42, stratify=df.target, shuffle=True)"
   ],
   "id": "27e9b2bad6fbbe13",
   "outputs": [],
   "execution_count": 45
  },
  {
   "metadata": {
    "ExecuteTime": {
     "end_time": "2025-07-22T15:57:47.855300Z",
     "start_time": "2025-07-22T15:57:47.849588Z"
    }
   },
   "cell_type": "code",
   "source": "y_train.value_counts()",
   "id": "5f9bce77babab92d",
   "outputs": [
    {
     "data": {
      "text/plain": [
       "target\n",
       "0    4000\n",
       "1    4000\n",
       "Name: count, dtype: int64"
      ]
     },
     "execution_count": 46,
     "metadata": {},
     "output_type": "execute_result"
    }
   ],
   "execution_count": 46
  },
  {
   "metadata": {
    "ExecuteTime": {
     "end_time": "2025-07-22T15:57:52.673773Z",
     "start_time": "2025-07-22T15:57:51.385743Z"
    }
   },
   "cell_type": "code",
   "source": [
    "#Tokenize and encode the data using the BERT tokenizer\n",
    "tokenizer = BertTokenizer.from_pretrained('bert-base-uncased', do_lower_case=True)"
   ],
   "id": "bfafde7749db27ee",
   "outputs": [],
   "execution_count": 47
  },
  {
   "metadata": {
    "ExecuteTime": {
     "end_time": "2025-07-22T15:57:52.687339Z",
     "start_time": "2025-07-22T15:57:52.685704Z"
    }
   },
   "cell_type": "code",
   "source": "max_len = 128",
   "id": "57c0db0a49eea422",
   "outputs": [],
   "execution_count": 48
  },
  {
   "metadata": {
    "ExecuteTime": {
     "end_time": "2025-07-22T15:57:59.207653Z",
     "start_time": "2025-07-22T15:57:52.701254Z"
    }
   },
   "cell_type": "code",
   "source": [
    "X_train_encoded = tokenizer.batch_encode_plus(\n",
    "    x_train.tolist(),\n",
    "    padding='max_length',\n",
    "    truncation=True,\n",
    "    max_length=max_len,\n",
    "    add_special_tokens=True,\n",
    "    return_tensors='tf'\n",
    ")\n",
    "X_test_encoded = tokenizer.batch_encode_plus(\n",
    "    x_test.tolist(),\n",
    "    padding='max_length',\n",
    "    truncation=True,\n",
    "    max_length=max_len,\n",
    "    add_special_tokens=True,\n",
    "    return_tensors='tf'\n",
    ")"
   ],
   "id": "24f30a34ccf36a6f",
   "outputs": [],
   "execution_count": 49
  },
  {
   "metadata": {
    "ExecuteTime": {
     "end_time": "2025-07-22T15:50:17.796479Z",
     "start_time": "2025-07-22T15:50:17.098763Z"
    }
   },
   "cell_type": "code",
   "source": "model = TFBertForSequenceClassification.from_pretrained('../bert_model_trained', num_labels=2)",
   "id": "1cb999efe34aee03",
   "outputs": [
    {
     "name": "stderr",
     "output_type": "stream",
     "text": [
      "TensorFlow and JAX classes are deprecated and will be removed in Transformers v5. We recommend migrating to PyTorch classes or pinning your version of Transformers.\n",
      "All model checkpoint layers were used when initializing TFBertForSequenceClassification.\n",
      "\n",
      "All the layers of TFBertForSequenceClassification were initialized from the model checkpoint at ../bert_model_trained.\n",
      "If your task is similar to the task the model of the checkpoint was trained on, you can already use TFBertForSequenceClassification for predictions without further training.\n"
     ]
    }
   ],
   "execution_count": 13
  },
  {
   "metadata": {
    "ExecuteTime": {
     "end_time": "2025-07-22T15:58:05.961056Z",
     "start_time": "2025-07-22T15:58:05.958079Z"
    }
   },
   "cell_type": "code",
   "source": "y_test.value_counts()",
   "id": "8c50d1841c90d3c0",
   "outputs": [
    {
     "data": {
      "text/plain": [
       "target\n",
       "0    1000\n",
       "1    1000\n",
       "Name: count, dtype: int64"
      ]
     },
     "execution_count": 50,
     "metadata": {},
     "output_type": "execute_result"
    }
   ],
   "execution_count": 50
  },
  {
   "metadata": {
    "ExecuteTime": {
     "end_time": "2025-07-22T15:50:27.445561Z",
     "start_time": "2025-07-22T15:50:27.442893Z"
    }
   },
   "cell_type": "code",
   "source": "from sklearn.metrics import classification_report",
   "id": "164e9e090b284d60",
   "outputs": [],
   "execution_count": 15
  },
  {
   "metadata": {
    "ExecuteTime": {
     "end_time": "2025-07-22T15:59:31.932438Z",
     "start_time": "2025-07-22T15:58:15.253268Z"
    }
   },
   "cell_type": "code",
   "source": [
    "import tensorflow as tf\n",
    "y_pred = model.predict(\n",
    "    [X_test_encoded['input_ids'], X_test_encoded['token_type_ids'], X_test_encoded['attention_mask']])\n",
    "y_pred = tf.argmax(y_pred.logits, axis=1).numpy()\n"
   ],
   "id": "c064edf04549e109",
   "outputs": [
    {
     "name": "stdout",
     "output_type": "stream",
     "text": [
      "63/63 [==============================] - 77s 1s/step\n"
     ]
    }
   ],
   "execution_count": 51
  },
  {
   "metadata": {
    "ExecuteTime": {
     "end_time": "2025-07-22T15:59:34.995822Z",
     "start_time": "2025-07-22T15:59:34.984158Z"
    }
   },
   "cell_type": "code",
   "source": "print(classification_report(y_test, y_pred))",
   "id": "f9ba4f269f869ce5",
   "outputs": [
    {
     "name": "stdout",
     "output_type": "stream",
     "text": [
      "              precision    recall  f1-score   support\n",
      "\n",
      "           0       0.94      0.99      0.97      1000\n",
      "           1       0.99      0.94      0.96      1000\n",
      "\n",
      "    accuracy                           0.97      2000\n",
      "   macro avg       0.97      0.97      0.97      2000\n",
      "weighted avg       0.97      0.97      0.97      2000\n",
      "\n"
     ]
    }
   ],
   "execution_count": 52
  },
  {
   "metadata": {
    "ExecuteTime": {
     "end_time": "2025-07-22T15:59:37.943851Z",
     "start_time": "2025-07-22T15:59:37.933957Z"
    }
   },
   "cell_type": "code",
   "source": [
    "sentences = x_test.tolist()\n",
    "predicted = y_pred.tolist()\n",
    "truth = y_test.tolist()\n",
    "size = len(sentences)\n",
    "\n",
    "mismatches = []\n",
    "for i in range(size):\n",
    "    if predicted[i] == truth[i]:\n",
    "        continue\n",
    "    mismatches.append((sentences[i], predicted[i], truth[i]))"
   ],
   "id": "d5c04989c09aeff9",
   "outputs": [],
   "execution_count": 53
  },
  {
   "metadata": {
    "ExecuteTime": {
     "end_time": "2025-07-22T16:12:46.828123Z",
     "start_time": "2025-07-22T16:12:46.821088Z"
    }
   },
   "cell_type": "code",
   "source": "mismatches[0]",
   "id": "1e93045e0cadd4b",
   "outputs": [
    {
     "data": {
      "text/plain": [
       "(\"Well that's not very inclusive of Women's bathrooms!  The President should decree that all Women's Restrooms receive urinals so as to be more inclusive for the gender confused who just happen to have a penis.\",\n",
       " 0,\n",
       " 1)"
      ]
     },
     "execution_count": 57,
     "metadata": {},
     "output_type": "execute_result"
    }
   ],
   "execution_count": 57
  },
  {
   "metadata": {
    "ExecuteTime": {
     "end_time": "2025-07-22T15:59:39.468767Z",
     "start_time": "2025-07-22T15:59:39.464080Z"
    }
   },
   "cell_type": "code",
   "source": [
    "import pandas as pd\n",
    "errors = pd.DataFrame(mismatches, columns=['sentence', 'predicted', 'truth'])"
   ],
   "id": "e74b0290a7f3b4fb",
   "outputs": [],
   "execution_count": 54
  },
  {
   "metadata": {
    "ExecuteTime": {
     "end_time": "2025-07-22T16:02:17.854875Z",
     "start_time": "2025-07-22T16:02:17.842880Z"
    }
   },
   "cell_type": "code",
   "source": "errors.to_csv(\"errors.csv\", index=False)",
   "id": "5a17a27d42e1e23",
   "outputs": [],
   "execution_count": 56
  },
  {
   "metadata": {},
   "cell_type": "code",
   "outputs": [],
   "execution_count": null,
   "source": "",
   "id": "16ec75c0a672f906"
  }
 ],
 "metadata": {
  "kernelspec": {
   "display_name": "Python 3",
   "language": "python",
   "name": "python3"
  },
  "language_info": {
   "codemirror_mode": {
    "name": "ipython",
    "version": 2
   },
   "file_extension": ".py",
   "mimetype": "text/x-python",
   "name": "python",
   "nbconvert_exporter": "python",
   "pygments_lexer": "ipython2",
   "version": "2.7.6"
  }
 },
 "nbformat": 4,
 "nbformat_minor": 5
}
