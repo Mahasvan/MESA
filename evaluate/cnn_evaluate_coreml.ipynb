{
 "cells": [
  {
   "metadata": {
    "ExecuteTime": {
     "end_time": "2025-07-27T13:27:34.816966Z",
     "start_time": "2025-07-27T13:27:31.885140Z"
    }
   },
   "cell_type": "code",
   "source": [
    "import pandas as pd\n",
    "import torch\n",
    "from sklearn.metrics import classification_report\n",
    "from torch.utils.data import DataLoader, TensorDataset\n",
    "from transformers import BertTokenizer"
   ],
   "id": "d3b58153a1d219b5",
   "outputs": [
    {
     "name": "stderr",
     "output_type": "stream",
     "text": [
      "/Users/mahas/PycharmProjects/STIRS/.venv/lib/python3.9/site-packages/urllib3/__init__.py:35: NotOpenSSLWarning: urllib3 v2 only supports OpenSSL 1.1.1+, currently the 'ssl' module is compiled with 'LibreSSL 2.8.3'. See: https://github.com/urllib3/urllib3/issues/3020\n",
      "  warnings.warn(\n",
      "/Users/mahas/PycharmProjects/STIRS/.venv/lib/python3.9/site-packages/tqdm/auto.py:21: TqdmWarning: IProgress not found. Please update jupyter and ipywidgets. See https://ipywidgets.readthedocs.io/en/stable/user_install.html\n",
      "  from .autonotebook import tqdm as notebook_tqdm\n"
     ]
    }
   ],
   "execution_count": 1
  },
  {
   "metadata": {
    "ExecuteTime": {
     "end_time": "2025-07-27T13:27:41.903854Z",
     "start_time": "2025-07-27T13:27:37.589063Z"
    }
   },
   "cell_type": "code",
   "source": [
    "# Setting up the parameters\n",
    "maximum_features = 30522  # Maximum number of words to consider as features\n",
    "maximum_length = 128  # Maximum length of input sequences\n",
    "word_embedding_dims = 50  # Dimension of word embeddings\n",
    "no_of_filters = 128  # Number of filters in the convolutional layer\n",
    "kernel_size = 3  # Size of the convolutional filters\n",
    "hidden_dim_1 = 128  # Number of neurons in the hidden layer\n",
    "\n",
    "batch_size = 64  # Batch size for training\n",
    "epochs = 10  # Number of training epochs\n",
    "threshold = 0.5  # Threshold for binary classification\n",
    "\n",
    "DATASET_SIZE = 10_000\n",
    "\n",
    "df = pd.read_csv(\"../jigsaw/dataset_text_target.csv\")\n",
    "df_true = df[df.target > 0.5]\n",
    "df_false = df[df.target <= 0.5]\n",
    "df = pd.concat([df_true[DATASET_SIZE // 2:DATASET_SIZE], df_false[DATASET_SIZE // 2:DATASET_SIZE]], axis=0)\n",
    "mapper = lambda x: 1 if x > 0.5 else 0\n",
    "df.target = df.target.apply(mapper)\n"
   ],
   "id": "59f0e745fc81038",
   "outputs": [],
   "execution_count": 2
  },
  {
   "metadata": {
    "ExecuteTime": {
     "end_time": "2025-07-27T13:27:41.974417Z",
     "start_time": "2025-07-27T13:27:41.972406Z"
    }
   },
   "cell_type": "code",
   "source": [
    "\n",
    "x_test = df.comment_text\n",
    "y_test = df.target"
   ],
   "id": "d66bab8167fc21fe",
   "outputs": [],
   "execution_count": 3
  },
  {
   "metadata": {
    "ExecuteTime": {
     "end_time": "2025-07-27T13:27:54.370100Z",
     "start_time": "2025-07-27T13:27:45.472820Z"
    }
   },
   "cell_type": "code",
   "source": [
    "# Tokenize and encode the data using the BERT tokenizer\n",
    "tokenizer = BertTokenizer.from_pretrained('bert-base-uncased', do_lower_case=True)\n",
    "\n",
    "X_test_encoded = tokenizer.batch_encode_plus(\n",
    "    x_test.tolist(),\n",
    "    padding='max_length',\n",
    "    truncation=True,\n",
    "    max_length=maximum_length,\n",
    "    add_special_tokens=True,\n",
    "    return_tensors='pt',  # Return PyTorch tensors\n",
    ")\n",
    "\n",
    "# Create PyTorch Datasets\n",
    "test_dataset = TensorDataset(X_test_encoded['input_ids'], torch.tensor(y_test.values, dtype=torch.float32))\n",
    "\n",
    "# Create DataLoaders\n",
    "test_loader = DataLoader(test_dataset, batch_size=batch_size, shuffle=False)"
   ],
   "id": "5f30708c9edd5a6e",
   "outputs": [],
   "execution_count": 4
  },
  {
   "metadata": {
    "ExecuteTime": {
     "end_time": "2025-07-27T13:28:00.751932Z",
     "start_time": "2025-07-27T13:27:56.539608Z"
    }
   },
   "cell_type": "code",
   "source": "import coremltools as ct",
   "id": "c2a7b47d486a410b",
   "outputs": [
    {
     "name": "stderr",
     "output_type": "stream",
     "text": [
      "scikit-learn version 1.6.1 is not supported. Minimum required version: 0.17. Maximum required version: 1.5.1. Disabling scikit-learn conversion API.\n",
      "\n",
      "A module that was compiled using NumPy 1.x cannot be run in\n",
      "NumPy 2.0.2 as it may crash. To support both 1.x and 2.x\n",
      "versions of NumPy, modules must be compiled with NumPy 2.0.\n",
      "Some module may need to rebuild instead e.g. with 'pybind11>=2.12'.\n",
      "\n",
      "If you are a user of the module, the easiest solution will be to\n",
      "downgrade to 'numpy<2' or try to upgrade the affected module.\n",
      "We expect that some modules will need time to support NumPy 2.\n",
      "\n",
      "Traceback (most recent call last):  File \"/Applications/Xcode.app/Contents/Developer/Library/Frameworks/Python3.framework/Versions/3.9/lib/python3.9/runpy.py\", line 197, in _run_module_as_main\n",
      "    return _run_code(code, main_globals, None,\n",
      "  File \"/Applications/Xcode.app/Contents/Developer/Library/Frameworks/Python3.framework/Versions/3.9/lib/python3.9/runpy.py\", line 87, in _run_code\n",
      "    exec(code, run_globals)\n",
      "  File \"/Users/mahas/PycharmProjects/STIRS/.venv/lib/python3.9/site-packages/ipykernel_launcher.py\", line 18, in <module>\n",
      "    app.launch_new_instance()\n",
      "  File \"/Users/mahas/PycharmProjects/STIRS/.venv/lib/python3.9/site-packages/traitlets/config/application.py\", line 1075, in launch_instance\n",
      "    app.start()\n",
      "  File \"/Users/mahas/PycharmProjects/STIRS/.venv/lib/python3.9/site-packages/ipykernel/kernelapp.py\", line 739, in start\n",
      "    self.io_loop.start()\n",
      "  File \"/Users/mahas/PycharmProjects/STIRS/.venv/lib/python3.9/site-packages/tornado/platform/asyncio.py\", line 205, in start\n",
      "    self.asyncio_loop.run_forever()\n",
      "  File \"/Applications/Xcode.app/Contents/Developer/Library/Frameworks/Python3.framework/Versions/3.9/lib/python3.9/asyncio/base_events.py\", line 596, in run_forever\n",
      "    self._run_once()\n",
      "  File \"/Applications/Xcode.app/Contents/Developer/Library/Frameworks/Python3.framework/Versions/3.9/lib/python3.9/asyncio/base_events.py\", line 1890, in _run_once\n",
      "    handle._run()\n",
      "  File \"/Applications/Xcode.app/Contents/Developer/Library/Frameworks/Python3.framework/Versions/3.9/lib/python3.9/asyncio/events.py\", line 80, in _run\n",
      "    self._context.run(self._callback, *self._args)\n",
      "  File \"/Users/mahas/PycharmProjects/STIRS/.venv/lib/python3.9/site-packages/ipykernel/kernelbase.py\", line 545, in dispatch_queue\n",
      "    await self.process_one()\n",
      "  File \"/Users/mahas/PycharmProjects/STIRS/.venv/lib/python3.9/site-packages/ipykernel/kernelbase.py\", line 534, in process_one\n",
      "    await dispatch(*args)\n",
      "  File \"/Users/mahas/PycharmProjects/STIRS/.venv/lib/python3.9/site-packages/ipykernel/kernelbase.py\", line 437, in dispatch_shell\n",
      "    await result\n",
      "  File \"/Users/mahas/PycharmProjects/STIRS/.venv/lib/python3.9/site-packages/ipykernel/ipkernel.py\", line 362, in execute_request\n",
      "    await super().execute_request(stream, ident, parent)\n",
      "  File \"/Users/mahas/PycharmProjects/STIRS/.venv/lib/python3.9/site-packages/ipykernel/kernelbase.py\", line 778, in execute_request\n",
      "    reply_content = await reply_content\n",
      "  File \"/Users/mahas/PycharmProjects/STIRS/.venv/lib/python3.9/site-packages/ipykernel/ipkernel.py\", line 449, in do_execute\n",
      "    res = shell.run_cell(\n",
      "  File \"/Users/mahas/PycharmProjects/STIRS/.venv/lib/python3.9/site-packages/ipykernel/zmqshell.py\", line 549, in run_cell\n",
      "    return super().run_cell(*args, **kwargs)\n",
      "  File \"/Users/mahas/PycharmProjects/STIRS/.venv/lib/python3.9/site-packages/IPython/core/interactiveshell.py\", line 3048, in run_cell\n",
      "    result = self._run_cell(\n",
      "  File \"/Users/mahas/PycharmProjects/STIRS/.venv/lib/python3.9/site-packages/IPython/core/interactiveshell.py\", line 3103, in _run_cell\n",
      "    result = runner(coro)\n",
      "  File \"/Users/mahas/PycharmProjects/STIRS/.venv/lib/python3.9/site-packages/IPython/core/async_helpers.py\", line 129, in _pseudo_sync_runner\n",
      "    coro.send(None)\n",
      "  File \"/Users/mahas/PycharmProjects/STIRS/.venv/lib/python3.9/site-packages/IPython/core/interactiveshell.py\", line 3308, in run_cell_async\n",
      "    has_raised = await self.run_ast_nodes(code_ast.body, cell_name,\n",
      "  File \"/Users/mahas/PycharmProjects/STIRS/.venv/lib/python3.9/site-packages/IPython/core/interactiveshell.py\", line 3490, in run_ast_nodes\n",
      "    if await self.run_code(code, result, async_=asy):\n",
      "  File \"/Users/mahas/PycharmProjects/STIRS/.venv/lib/python3.9/site-packages/IPython/core/interactiveshell.py\", line 3550, in run_code\n",
      "    exec(code_obj, self.user_global_ns, self.user_ns)\n",
      "  File \"/var/folders/w3/cp_fltc96sq0kv1h35bvdlqh0000gn/T/ipykernel_34386/3570539081.py\", line 1, in <module>\n",
      "    import coremltools as ct\n",
      "  File \"/Users/mahas/PycharmProjects/STIRS/.venv/lib/python3.9/site-packages/coremltools/__init__.py\", line 120, in <module>\n",
      "    from . import converters, models, optimize, proto\n",
      "  File \"/Users/mahas/PycharmProjects/STIRS/.venv/lib/python3.9/site-packages/coremltools/converters/__init__.py\", line 7, in <module>\n",
      "    from . import libsvm, sklearn, xgboost\n",
      "  File \"/Users/mahas/PycharmProjects/STIRS/.venv/lib/python3.9/site-packages/coremltools/converters/libsvm/__init__.py\", line 7, in <module>\n",
      "    from ..._deps import _HAS_LIBSVM\n",
      "  File \"/Users/mahas/PycharmProjects/STIRS/.venv/lib/python3.9/site-packages/coremltools/_deps/__init__.py\", line 114, in <module>\n",
      "    import tensorflow\n",
      "  File \"/Users/mahas/PycharmProjects/STIRS/.venv/lib/python3.9/site-packages/tensorflow/__init__.py\", line 49, in <module>\n",
      "    from tensorflow._api.v2 import __internal__\n",
      "  File \"/Users/mahas/PycharmProjects/STIRS/.venv/lib/python3.9/site-packages/tensorflow/_api/v2/__internal__/__init__.py\", line 8, in <module>\n",
      "    from tensorflow._api.v2.__internal__ import autograph\n",
      "  File \"/Users/mahas/PycharmProjects/STIRS/.venv/lib/python3.9/site-packages/tensorflow/_api/v2/__internal__/autograph/__init__.py\", line 8, in <module>\n",
      "    from tensorflow.python.autograph.core.ag_ctx import control_status_ctx # line: 34\n",
      "  File \"/Users/mahas/PycharmProjects/STIRS/.venv/lib/python3.9/site-packages/tensorflow/python/autograph/core/ag_ctx.py\", line 21, in <module>\n",
      "    from tensorflow.python.autograph.utils import ag_logging\n",
      "  File \"/Users/mahas/PycharmProjects/STIRS/.venv/lib/python3.9/site-packages/tensorflow/python/autograph/utils/__init__.py\", line 17, in <module>\n",
      "    from tensorflow.python.autograph.utils.context_managers import control_dependency_on_returns\n",
      "  File \"/Users/mahas/PycharmProjects/STIRS/.venv/lib/python3.9/site-packages/tensorflow/python/autograph/utils/context_managers.py\", line 19, in <module>\n",
      "    from tensorflow.python.framework import ops\n",
      "  File \"/Users/mahas/PycharmProjects/STIRS/.venv/lib/python3.9/site-packages/tensorflow/python/framework/ops.py\", line 62, in <module>\n",
      "    from tensorflow.python.framework import tensor as tensor_lib\n",
      "  File \"/Users/mahas/PycharmProjects/STIRS/.venv/lib/python3.9/site-packages/tensorflow/python/framework/tensor.py\", line 35, in <module>\n",
      "    from tensorflow.python.framework import tensor_util\n",
      "  File \"/Users/mahas/PycharmProjects/STIRS/.venv/lib/python3.9/site-packages/tensorflow/python/framework/tensor_util.py\", line 39, in <module>\n",
      "    from tensorflow.python.framework import fast_tensor_util\n",
      "TensorFlow version 2.19.0 has not been tested with coremltools. You may run into unexpected errors. TensorFlow 2.12.0 is the most recent version that has been tested.\n",
      "Torch version 2.7.1 has not been tested with coremltools. You may run into unexpected errors. Torch 2.5.0 is the most recent version that has been tested.\n"
     ]
    }
   ],
   "execution_count": 5
  },
  {
   "metadata": {
    "ExecuteTime": {
     "end_time": "2025-07-27T13:28:44.918120Z",
     "start_time": "2025-07-27T13:28:44.791031Z"
    }
   },
   "cell_type": "code",
   "source": "model = ct.models.MLModel(\"../conversions/ToxicCNN.mlpackage\")",
   "id": "aae6bd747d3474e6",
   "outputs": [],
   "execution_count": 6
  },
  {
   "metadata": {
    "ExecuteTime": {
     "end_time": "2025-07-27T13:33:57.896463Z",
     "start_time": "2025-07-27T13:33:57.889795Z"
    }
   },
   "cell_type": "code",
   "source": "X_test_encoded.to(\"cpu\")",
   "id": "80cd027f69e3527",
   "outputs": [
    {
     "data": {
      "text/plain": [
       "{'input_ids': tensor([[  101,  1997,  2035,  ...,     0,     0,     0],\n",
       "        [  101,  2000,  7868,  ...,     0,     0,     0],\n",
       "        [  101,  2007,  1019,  ...,  2065,  8398,   102],\n",
       "        ...,\n",
       "        [  101,  2071,  2070,  ...,     0,     0,     0],\n",
       "        [  101,  2077,  2057,  ...,     0,     0,     0],\n",
       "        [  101,  2030, 15671,  ...,     0,     0,     0]]), 'token_type_ids': tensor([[0, 0, 0,  ..., 0, 0, 0],\n",
       "        [0, 0, 0,  ..., 0, 0, 0],\n",
       "        [0, 0, 0,  ..., 0, 0, 0],\n",
       "        ...,\n",
       "        [0, 0, 0,  ..., 0, 0, 0],\n",
       "        [0, 0, 0,  ..., 0, 0, 0],\n",
       "        [0, 0, 0,  ..., 0, 0, 0]]), 'attention_mask': tensor([[1, 1, 1,  ..., 0, 0, 0],\n",
       "        [1, 1, 1,  ..., 0, 0, 0],\n",
       "        [1, 1, 1,  ..., 1, 1, 1],\n",
       "        ...,\n",
       "        [1, 1, 1,  ..., 0, 0, 0],\n",
       "        [1, 1, 1,  ..., 0, 0, 0],\n",
       "        [1, 1, 1,  ..., 0, 0, 0]])}"
      ]
     },
     "execution_count": 25,
     "metadata": {},
     "output_type": "execute_result"
    }
   ],
   "execution_count": 25
  },
  {
   "metadata": {
    "ExecuteTime": {
     "end_time": "2025-07-27T13:33:59.852811Z",
     "start_time": "2025-07-27T13:33:59.091222Z"
    }
   },
   "cell_type": "code",
   "source": [
    "results = []\n",
    "for i, row in enumerate(X_test_encoded[\"input_ids\"]):\n",
    "    res = model.predict({\"input_ids\": [row.numpy().astype(\"float32\")]})\n",
    "    results.append(res[\"var_72\"][0][0] > 0.5)\n",
    "    print(f\"{((i + 1) / len(X_test_encoded['input_ids'])) * 100:.2f}%\", end=\"\\r\")"
   ],
   "id": "8bab3913d6ba3af5",
   "outputs": [
    {
     "name": "stdout",
     "output_type": "stream",
     "text": [
      "100.00%\r"
     ]
    }
   ],
   "execution_count": 26
  },
  {
   "metadata": {
    "ExecuteTime": {
     "end_time": "2025-07-27T13:34:01.201716Z",
     "start_time": "2025-07-27T13:34:01.183004Z"
    }
   },
   "cell_type": "code",
   "source": "print(classification_report(results, y_test))",
   "id": "95342ca03b6e7267",
   "outputs": [
    {
     "name": "stdout",
     "output_type": "stream",
     "text": [
      "              precision    recall  f1-score   support\n",
      "\n",
      "       False       0.95      0.89      0.92      5288\n",
      "        True       0.89      0.94      0.91      4712\n",
      "\n",
      "    accuracy                           0.92     10000\n",
      "   macro avg       0.92      0.92      0.92     10000\n",
      "weighted avg       0.92      0.92      0.92     10000\n",
      "\n"
     ]
    }
   ],
   "execution_count": 27
  },
  {
   "metadata": {
    "ExecuteTime": {
     "end_time": "2025-07-27T13:36:21.876008Z",
     "start_time": "2025-07-27T13:36:21.870381Z"
    }
   },
   "cell_type": "code",
   "source": [
    "sentences = x_test.tolist()\n",
    "predicted = results\n",
    "truth = y_test.tolist()\n",
    "size = len(sentences)\n",
    "\n",
    "mismatches = []\n",
    "for i in range(size):\n",
    "    if bool(predicted[i]) == bool(truth[i]):\n",
    "        continue\n",
    "    mismatches.append((sentences[i], bool(predicted[i]), bool(truth[i])))"
   ],
   "id": "98d5d10f0db4048d",
   "outputs": [],
   "execution_count": 34
  },
  {
   "metadata": {
    "ExecuteTime": {
     "end_time": "2025-07-27T13:36:22.448302Z",
     "start_time": "2025-07-27T13:36:22.431207Z"
    }
   },
   "cell_type": "code",
   "source": [
    "errors = pd.DataFrame(mismatches, columns=['sentence', 'predicted', 'truth'])\n",
    "errors.to_csv(\"cnn_coreml_errors.csv\", index=False)"
   ],
   "id": "8b3993576f9c9d1b",
   "outputs": [],
   "execution_count": 35
  },
  {
   "metadata": {},
   "cell_type": "code",
   "outputs": [],
   "execution_count": null,
   "source": "",
   "id": "13cc896fdc7bea50"
  }
 ],
 "metadata": {
  "kernelspec": {
   "display_name": "Python 3",
   "language": "python",
   "name": "python3"
  },
  "language_info": {
   "codemirror_mode": {
    "name": "ipython",
    "version": 2
   },
   "file_extension": ".py",
   "mimetype": "text/x-python",
   "name": "python",
   "nbconvert_exporter": "python",
   "pygments_lexer": "ipython2",
   "version": "2.7.6"
  }
 },
 "nbformat": 4,
 "nbformat_minor": 5
}
