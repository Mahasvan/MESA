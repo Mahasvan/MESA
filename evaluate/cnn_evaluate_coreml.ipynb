{
 "cells": [
  {
   "metadata": {
    "ExecuteTime": {
     "end_time": "2025-07-27T14:04:38.148850Z",
     "start_time": "2025-07-27T14:04:35.710105Z"
    }
   },
   "cell_type": "code",
   "source": [
    "import pandas as pd\n",
    "import torch\n",
    "from sklearn.metrics import classification_report\n",
    "from torch.utils.data import DataLoader, TensorDataset\n",
    "from transformers import BertTokenizer"
   ],
   "id": "d3b58153a1d219b5",
   "outputs": [
    {
     "name": "stderr",
     "output_type": "stream",
     "text": [
      "/Users/mahas/PycharmProjects/STIRS/.venv/lib/python3.9/site-packages/urllib3/__init__.py:35: NotOpenSSLWarning: urllib3 v2 only supports OpenSSL 1.1.1+, currently the 'ssl' module is compiled with 'LibreSSL 2.8.3'. See: https://github.com/urllib3/urllib3/issues/3020\n",
      "  warnings.warn(\n",
      "/Users/mahas/PycharmProjects/STIRS/.venv/lib/python3.9/site-packages/tqdm/auto.py:21: TqdmWarning: IProgress not found. Please update jupyter and ipywidgets. See https://ipywidgets.readthedocs.io/en/stable/user_install.html\n",
      "  from .autonotebook import tqdm as notebook_tqdm\n"
     ]
    }
   ],
   "execution_count": 1
  },
  {
   "metadata": {
    "ExecuteTime": {
     "end_time": "2025-07-27T14:08:43.960109Z",
     "start_time": "2025-07-27T14:08:39.547489Z"
    }
   },
   "cell_type": "code",
   "source": [
    "# Setting up the parameters\n",
    "maximum_features = 30522  # Maximum number of words to consider as features\n",
    "maximum_length = 128  # Maximum length of input sequences\n",
    "word_embedding_dims = 50  # Dimension of word embeddings\n",
    "no_of_filters = 128  # Number of filters in the convolutional layer\n",
    "kernel_size = 3  # Size of the convolutional filters\n",
    "hidden_dim_1 = 128  # Number of neurons in the hidden layer\n",
    "\n",
    "batch_size = 64  # Batch size for training\n",
    "epochs = 10  # Number of training epochs\n",
    "threshold = 0.6  # Threshold for binary classification\n",
    "\n",
    "DATASET_SIZE = 10_000\n",
    "\n",
    "df = pd.read_csv(\"../jigsaw/dataset_text_target.csv\")\n",
    "df_true = df[df.target > threshold]\n",
    "df_false = df[df.target <= threshold]\n",
    "df = pd.concat([df_true[DATASET_SIZE // 2:DATASET_SIZE], df_false[DATASET_SIZE // 2:DATASET_SIZE]], axis=0)\n",
    "mapper = lambda x: 1 if x > 0.5 else 0\n",
    "df.target = df.target.apply(mapper)\n"
   ],
   "id": "59f0e745fc81038",
   "outputs": [],
   "execution_count": 12
  },
  {
   "metadata": {
    "ExecuteTime": {
     "end_time": "2025-07-27T14:08:43.974942Z",
     "start_time": "2025-07-27T14:08:43.972881Z"
    }
   },
   "cell_type": "code",
   "source": [
    "\n",
    "x_test = df.comment_text\n",
    "y_test = df.target"
   ],
   "id": "d66bab8167fc21fe",
   "outputs": [],
   "execution_count": 13
  },
  {
   "metadata": {
    "ExecuteTime": {
     "end_time": "2025-07-27T14:08:51.317017Z",
     "start_time": "2025-07-27T14:08:43.986135Z"
    }
   },
   "cell_type": "code",
   "source": [
    "# Tokenize and encode the data using the BERT tokenizer\n",
    "tokenizer = BertTokenizer.from_pretrained('bert-base-uncased', do_lower_case=True)\n",
    "\n",
    "X_test_encoded = tokenizer.batch_encode_plus(\n",
    "    x_test.tolist(),\n",
    "    padding='max_length',\n",
    "    truncation=True,\n",
    "    max_length=maximum_length,\n",
    "    add_special_tokens=True,\n",
    "    return_tensors='pt',  # Return PyTorch tensors\n",
    ")\n",
    "\n",
    "# Create PyTorch Datasets\n",
    "test_dataset = TensorDataset(X_test_encoded['input_ids'], torch.tensor(y_test.values, dtype=torch.float32))\n",
    "\n",
    "# Create DataLoaders\n",
    "test_loader = DataLoader(test_dataset, batch_size=batch_size, shuffle=False)"
   ],
   "id": "5f30708c9edd5a6e",
   "outputs": [],
   "execution_count": 14
  },
  {
   "metadata": {
    "ExecuteTime": {
     "end_time": "2025-07-27T14:08:51.330825Z",
     "start_time": "2025-07-27T14:08:51.328896Z"
    }
   },
   "cell_type": "code",
   "source": "import coremltools as ct",
   "id": "c2a7b47d486a410b",
   "outputs": [],
   "execution_count": 15
  },
  {
   "metadata": {
    "ExecuteTime": {
     "end_time": "2025-07-27T14:08:51.414543Z",
     "start_time": "2025-07-27T14:08:51.342461Z"
    }
   },
   "cell_type": "code",
   "source": "model = ct.models.MLModel(\"../conversions/ToxicCNN.mlpackage\")",
   "id": "aae6bd747d3474e6",
   "outputs": [],
   "execution_count": 16
  },
  {
   "metadata": {
    "ExecuteTime": {
     "end_time": "2025-07-27T14:08:51.429378Z",
     "start_time": "2025-07-27T14:08:51.425192Z"
    }
   },
   "cell_type": "code",
   "source": "X_test_encoded.to(\"cpu\")",
   "id": "80cd027f69e3527",
   "outputs": [
    {
     "data": {
      "text/plain": [
       "{'input_ids': tensor([[ 101, 2339, 2024,  ..., 1997, 2554,  102],\n",
       "        [ 101, 3100, 1010,  ...,    0,    0,    0],\n",
       "        [ 101, 3374, 1010,  ...,    0,    0,    0],\n",
       "        ...,\n",
       "        [ 101, 2071, 2009,  ...,    0,    0,    0],\n",
       "        [ 101, 2024, 2017,  ...,    0,    0,    0],\n",
       "        [ 101, 2178, 1059,  ..., 2023, 2003,  102]]), 'token_type_ids': tensor([[0, 0, 0,  ..., 0, 0, 0],\n",
       "        [0, 0, 0,  ..., 0, 0, 0],\n",
       "        [0, 0, 0,  ..., 0, 0, 0],\n",
       "        ...,\n",
       "        [0, 0, 0,  ..., 0, 0, 0],\n",
       "        [0, 0, 0,  ..., 0, 0, 0],\n",
       "        [0, 0, 0,  ..., 0, 0, 0]]), 'attention_mask': tensor([[1, 1, 1,  ..., 1, 1, 1],\n",
       "        [1, 1, 1,  ..., 0, 0, 0],\n",
       "        [1, 1, 1,  ..., 0, 0, 0],\n",
       "        ...,\n",
       "        [1, 1, 1,  ..., 0, 0, 0],\n",
       "        [1, 1, 1,  ..., 0, 0, 0],\n",
       "        [1, 1, 1,  ..., 1, 1, 1]])}"
      ]
     },
     "execution_count": 17,
     "metadata": {},
     "output_type": "execute_result"
    }
   ],
   "execution_count": 17
  },
  {
   "metadata": {
    "ExecuteTime": {
     "end_time": "2025-07-27T14:08:52.187484Z",
     "start_time": "2025-07-27T14:08:51.443591Z"
    }
   },
   "cell_type": "code",
   "source": [
    "results = []\n",
    "for i, row in enumerate(X_test_encoded[\"input_ids\"]):\n",
    "    res = model.predict({\"input_ids\": [row.numpy().astype(\"float32\")]})\n",
    "    results.append(res[\"var_72\"][0][0] > threshold)\n",
    "    print(f\"{((i + 1) / len(X_test_encoded['input_ids'])) * 100:.2f}%\", end=\"\\r\")"
   ],
   "id": "8bab3913d6ba3af5",
   "outputs": [
    {
     "name": "stdout",
     "output_type": "stream",
     "text": [
      "100.00%\r"
     ]
    }
   ],
   "execution_count": 18
  },
  {
   "metadata": {
    "ExecuteTime": {
     "end_time": "2025-07-27T14:08:52.208922Z",
     "start_time": "2025-07-27T14:08:52.196652Z"
    }
   },
   "cell_type": "code",
   "source": "print(classification_report(results, y_test))",
   "id": "95342ca03b6e7267",
   "outputs": [
    {
     "name": "stdout",
     "output_type": "stream",
     "text": [
      "              precision    recall  f1-score   support\n",
      "\n",
      "       False       0.96      0.91      0.93      5186\n",
      "        True       0.91      0.96      0.93      4814\n",
      "\n",
      "    accuracy                           0.93     10000\n",
      "   macro avg       0.93      0.93      0.93     10000\n",
      "weighted avg       0.94      0.93      0.93     10000\n",
      "\n"
     ]
    }
   ],
   "execution_count": 19
  },
  {
   "metadata": {
    "ExecuteTime": {
     "end_time": "2025-07-27T14:08:52.233474Z",
     "start_time": "2025-07-27T14:08:52.227961Z"
    }
   },
   "cell_type": "code",
   "source": [
    "sentences = x_test.tolist()\n",
    "predicted = results\n",
    "truth = y_test.tolist()\n",
    "size = len(sentences)\n",
    "\n",
    "mismatches = []\n",
    "for i in range(size):\n",
    "    if bool(predicted[i]) == bool(truth[i]):\n",
    "        continue\n",
    "    mismatches.append((sentences[i], bool(predicted[i]), bool(truth[i])))"
   ],
   "id": "98d5d10f0db4048d",
   "outputs": [],
   "execution_count": 20
  },
  {
   "metadata": {
    "ExecuteTime": {
     "end_time": "2025-07-27T14:10:06.328813Z",
     "start_time": "2025-07-27T14:10:06.311778Z"
    }
   },
   "cell_type": "code",
   "source": [
    "errors = pd.DataFrame(mismatches, columns=['sentence', 'predicted', 'truth'])\n",
    "errors.to_csv(\"cnn_errors_coreml.csv\", index=False)"
   ],
   "id": "8b3993576f9c9d1b",
   "outputs": [],
   "execution_count": 22
  },
  {
   "metadata": {
    "ExecuteTime": {
     "end_time": "2025-07-27T14:04:55.977832Z",
     "start_time": "2025-07-27T14:04:55.976120Z"
    }
   },
   "cell_type": "code",
   "source": "",
   "id": "13cc896fdc7bea50",
   "outputs": [],
   "execution_count": null
  }
 ],
 "metadata": {
  "kernelspec": {
   "display_name": "Python 3",
   "language": "python",
   "name": "python3"
  },
  "language_info": {
   "codemirror_mode": {
    "name": "ipython",
    "version": 2
   },
   "file_extension": ".py",
   "mimetype": "text/x-python",
   "name": "python",
   "nbconvert_exporter": "python",
   "pygments_lexer": "ipython2",
   "version": "2.7.6"
  }
 },
 "nbformat": 4,
 "nbformat_minor": 5
}
