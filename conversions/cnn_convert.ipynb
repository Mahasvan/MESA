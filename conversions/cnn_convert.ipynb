{
 "cells": [
  {
   "metadata": {
    "ExecuteTime": {
     "end_time": "2025-07-27T07:18:59.636686Z",
     "start_time": "2025-07-27T07:18:58.903421Z"
    }
   },
   "cell_type": "code",
   "source": [
    "import torch\n",
    "import torch.nn as nn\n",
    "import torch.nn.functional as F\n",
    "\n",
    "# 1. Re-define the exact same model architecture\n",
    "class CNNTextClassifier(nn.Module):\n",
    "    def __init__(self, vocab_size, embedding_dim, n_filters, filter_size, hidden_dim):\n",
    "        super(CNNTextClassifier, self).__init__()\n",
    "        self.embedding = nn.Embedding(vocab_size, embedding_dim)\n",
    "        self.conv1 = nn.Conv1d(embedding_dim, n_filters, kernel_size=filter_size, padding='valid')\n",
    "        self.pool1 = nn.MaxPool1d(kernel_size=3)\n",
    "        self.conv2 = nn.Conv1d(n_filters, n_filters, kernel_size=filter_size, padding='valid')\n",
    "        self.pool2 = nn.MaxPool1d(kernel_size=3)\n",
    "        self.conv3 = nn.Conv1d(n_filters, n_filters, kernel_size=filter_size, padding='valid')\n",
    "        self.global_pool = nn.AdaptiveMaxPool1d(1)\n",
    "        self.fc1 = nn.Linear(n_filters, hidden_dim)\n",
    "        self.fc2 = nn.Linear(hidden_dim, 1)\n",
    "\n",
    "    def forward(self, input_ids):\n",
    "        embedded = self.embedding(input_ids).permute(0, 2, 1)\n",
    "        x = self.pool1(F.relu(self.conv1(embedded)))\n",
    "        x = self.pool2(F.relu(self.conv2(x)))\n",
    "        x = F.relu(self.conv3(x))\n",
    "        x = self.global_pool(x).squeeze(2)\n",
    "        x = F.relu(self.fc1(x))\n",
    "        output = torch.sigmoid(self.fc2(x))\n",
    "        return output\n",
    "\n",
    "# 2. Instantiate the model with the same parameters used during training\n",
    "model = CNNTextClassifier(\n",
    "    vocab_size=30522,\n",
    "    embedding_dim=50,\n",
    "    n_filters=128,\n",
    "    filter_size=3,\n",
    "    hidden_dim=128\n",
    ")\n",
    "\n",
    "# 3. Load the saved weights\n",
    "model.load_state_dict(torch.load(\"../cnn_model_trained_torch/cnn_model_trained_pytorch.pth\"))\n",
    "\n",
    "# 4. Set the model to evaluation mode\n",
    "model.eval()\n",
    "print(\"PyTorch model loaded and set to evaluation mode.\")"
   ],
   "id": "fa27203eabb8597a",
   "outputs": [
    {
     "name": "stdout",
     "output_type": "stream",
     "text": [
      "PyTorch model loaded and set to evaluation mode.\n"
     ]
    }
   ],
   "execution_count": 1
  },
  {
   "metadata": {},
   "cell_type": "code",
   "outputs": [],
   "execution_count": null,
   "source": "",
   "id": "173ff87906dd11b2"
  },
  {
   "metadata": {
    "ExecuteTime": {
     "end_time": "2025-07-27T07:18:59.865682Z",
     "start_time": "2025-07-27T07:18:59.749515Z"
    }
   },
   "cell_type": "code",
   "source": [
    "# --- 3. Export to ONNX ---\n",
    "print(\"\\nExporting model to ONNX...\")\n",
    "dummy_input = torch.randint(0, 1000, (1, 128), dtype=torch.long)\n",
    "onnx_model_path = \"cnn_model.onnx\"\n",
    "torch.onnx.export(\n",
    "    model, dummy_input, onnx_model_path,\n",
    "    input_names=['input_ids'], output_names=['output'], opset_version=12\n",
    ")\n",
    "print(f\"Model exported to {onnx_model_path}\")"
   ],
   "id": "30fe563785d74370",
   "outputs": [
    {
     "name": "stdout",
     "output_type": "stream",
     "text": [
      "\n",
      "Exporting model to ONNX...\n",
      "Model exported to cnn_model.onnx\n"
     ]
    }
   ],
   "execution_count": 2
  },
  {
   "metadata": {
    "ExecuteTime": {
     "end_time": "2025-07-27T07:19:05.989562Z",
     "start_time": "2025-07-27T07:18:59.874045Z"
    }
   },
   "cell_type": "code",
   "source": [
    "import coremltools as ct\n",
    "\n",
    "dummy_input = torch.randint(0, 1000, (1, 128), dtype=torch.long)\n",
    "\n",
    "traced_model = torch.jit.trace(model, dummy_input)\n",
    "\n",
    "model_from_trace = ct.convert(\n",
    "    traced_model,\n",
    "    inputs=[ct.TensorType(shape=dummy_input.shape)],\n",
    ")"
   ],
   "id": "ebebcab87e030f93",
   "outputs": [
    {
     "name": "stderr",
     "output_type": "stream",
     "text": [
      "scikit-learn version 1.6.1 is not supported. Minimum required version: 0.17. Maximum required version: 1.5.1. Disabling scikit-learn conversion API.\n",
      "\n",
      "A module that was compiled using NumPy 1.x cannot be run in\n",
      "NumPy 2.0.2 as it may crash. To support both 1.x and 2.x\n",
      "versions of NumPy, modules must be compiled with NumPy 2.0.\n",
      "Some module may need to rebuild instead e.g. with 'pybind11>=2.12'.\n",
      "\n",
      "If you are a user of the module, the easiest solution will be to\n",
      "downgrade to 'numpy<2' or try to upgrade the affected module.\n",
      "We expect that some modules will need time to support NumPy 2.\n",
      "\n",
      "Traceback (most recent call last):  File \"/Applications/Xcode.app/Contents/Developer/Library/Frameworks/Python3.framework/Versions/3.9/lib/python3.9/runpy.py\", line 197, in _run_module_as_main\n",
      "    return _run_code(code, main_globals, None,\n",
      "  File \"/Applications/Xcode.app/Contents/Developer/Library/Frameworks/Python3.framework/Versions/3.9/lib/python3.9/runpy.py\", line 87, in _run_code\n",
      "    exec(code, run_globals)\n",
      "  File \"/Users/mahas/PycharmProjects/STIRS/.venv/lib/python3.9/site-packages/ipykernel_launcher.py\", line 18, in <module>\n",
      "    app.launch_new_instance()\n",
      "  File \"/Users/mahas/PycharmProjects/STIRS/.venv/lib/python3.9/site-packages/traitlets/config/application.py\", line 1075, in launch_instance\n",
      "    app.start()\n",
      "  File \"/Users/mahas/PycharmProjects/STIRS/.venv/lib/python3.9/site-packages/ipykernel/kernelapp.py\", line 739, in start\n",
      "    self.io_loop.start()\n",
      "  File \"/Users/mahas/PycharmProjects/STIRS/.venv/lib/python3.9/site-packages/tornado/platform/asyncio.py\", line 205, in start\n",
      "    self.asyncio_loop.run_forever()\n",
      "  File \"/Applications/Xcode.app/Contents/Developer/Library/Frameworks/Python3.framework/Versions/3.9/lib/python3.9/asyncio/base_events.py\", line 596, in run_forever\n",
      "    self._run_once()\n",
      "  File \"/Applications/Xcode.app/Contents/Developer/Library/Frameworks/Python3.framework/Versions/3.9/lib/python3.9/asyncio/base_events.py\", line 1890, in _run_once\n",
      "    handle._run()\n",
      "  File \"/Applications/Xcode.app/Contents/Developer/Library/Frameworks/Python3.framework/Versions/3.9/lib/python3.9/asyncio/events.py\", line 80, in _run\n",
      "    self._context.run(self._callback, *self._args)\n",
      "  File \"/Users/mahas/PycharmProjects/STIRS/.venv/lib/python3.9/site-packages/ipykernel/kernelbase.py\", line 545, in dispatch_queue\n",
      "    await self.process_one()\n",
      "  File \"/Users/mahas/PycharmProjects/STIRS/.venv/lib/python3.9/site-packages/ipykernel/kernelbase.py\", line 534, in process_one\n",
      "    await dispatch(*args)\n",
      "  File \"/Users/mahas/PycharmProjects/STIRS/.venv/lib/python3.9/site-packages/ipykernel/kernelbase.py\", line 437, in dispatch_shell\n",
      "    await result\n",
      "  File \"/Users/mahas/PycharmProjects/STIRS/.venv/lib/python3.9/site-packages/ipykernel/ipkernel.py\", line 362, in execute_request\n",
      "    await super().execute_request(stream, ident, parent)\n",
      "  File \"/Users/mahas/PycharmProjects/STIRS/.venv/lib/python3.9/site-packages/ipykernel/kernelbase.py\", line 778, in execute_request\n",
      "    reply_content = await reply_content\n",
      "  File \"/Users/mahas/PycharmProjects/STIRS/.venv/lib/python3.9/site-packages/ipykernel/ipkernel.py\", line 449, in do_execute\n",
      "    res = shell.run_cell(\n",
      "  File \"/Users/mahas/PycharmProjects/STIRS/.venv/lib/python3.9/site-packages/ipykernel/zmqshell.py\", line 549, in run_cell\n",
      "    return super().run_cell(*args, **kwargs)\n",
      "  File \"/Users/mahas/PycharmProjects/STIRS/.venv/lib/python3.9/site-packages/IPython/core/interactiveshell.py\", line 3048, in run_cell\n",
      "    result = self._run_cell(\n",
      "  File \"/Users/mahas/PycharmProjects/STIRS/.venv/lib/python3.9/site-packages/IPython/core/interactiveshell.py\", line 3103, in _run_cell\n",
      "    result = runner(coro)\n",
      "  File \"/Users/mahas/PycharmProjects/STIRS/.venv/lib/python3.9/site-packages/IPython/core/async_helpers.py\", line 129, in _pseudo_sync_runner\n",
      "    coro.send(None)\n",
      "  File \"/Users/mahas/PycharmProjects/STIRS/.venv/lib/python3.9/site-packages/IPython/core/interactiveshell.py\", line 3308, in run_cell_async\n",
      "    has_raised = await self.run_ast_nodes(code_ast.body, cell_name,\n",
      "  File \"/Users/mahas/PycharmProjects/STIRS/.venv/lib/python3.9/site-packages/IPython/core/interactiveshell.py\", line 3490, in run_ast_nodes\n",
      "    if await self.run_code(code, result, async_=asy):\n",
      "  File \"/Users/mahas/PycharmProjects/STIRS/.venv/lib/python3.9/site-packages/IPython/core/interactiveshell.py\", line 3550, in run_code\n",
      "    exec(code_obj, self.user_global_ns, self.user_ns)\n",
      "  File \"/var/folders/w3/cp_fltc96sq0kv1h35bvdlqh0000gn/T/ipykernel_18101/587075640.py\", line 1, in <module>\n",
      "    import coremltools as ct\n",
      "  File \"/Users/mahas/PycharmProjects/STIRS/.venv/lib/python3.9/site-packages/coremltools/__init__.py\", line 120, in <module>\n",
      "    from . import converters, models, optimize, proto\n",
      "  File \"/Users/mahas/PycharmProjects/STIRS/.venv/lib/python3.9/site-packages/coremltools/converters/__init__.py\", line 7, in <module>\n",
      "    from . import libsvm, sklearn, xgboost\n",
      "  File \"/Users/mahas/PycharmProjects/STIRS/.venv/lib/python3.9/site-packages/coremltools/converters/libsvm/__init__.py\", line 7, in <module>\n",
      "    from ..._deps import _HAS_LIBSVM\n",
      "  File \"/Users/mahas/PycharmProjects/STIRS/.venv/lib/python3.9/site-packages/coremltools/_deps/__init__.py\", line 114, in <module>\n",
      "    import tensorflow\n",
      "  File \"/Users/mahas/PycharmProjects/STIRS/.venv/lib/python3.9/site-packages/tensorflow/__init__.py\", line 49, in <module>\n",
      "    from tensorflow._api.v2 import __internal__\n",
      "  File \"/Users/mahas/PycharmProjects/STIRS/.venv/lib/python3.9/site-packages/tensorflow/_api/v2/__internal__/__init__.py\", line 8, in <module>\n",
      "    from tensorflow._api.v2.__internal__ import autograph\n",
      "  File \"/Users/mahas/PycharmProjects/STIRS/.venv/lib/python3.9/site-packages/tensorflow/_api/v2/__internal__/autograph/__init__.py\", line 8, in <module>\n",
      "    from tensorflow.python.autograph.core.ag_ctx import control_status_ctx # line: 34\n",
      "  File \"/Users/mahas/PycharmProjects/STIRS/.venv/lib/python3.9/site-packages/tensorflow/python/autograph/core/ag_ctx.py\", line 21, in <module>\n",
      "    from tensorflow.python.autograph.utils import ag_logging\n",
      "  File \"/Users/mahas/PycharmProjects/STIRS/.venv/lib/python3.9/site-packages/tensorflow/python/autograph/utils/__init__.py\", line 17, in <module>\n",
      "    from tensorflow.python.autograph.utils.context_managers import control_dependency_on_returns\n",
      "  File \"/Users/mahas/PycharmProjects/STIRS/.venv/lib/python3.9/site-packages/tensorflow/python/autograph/utils/context_managers.py\", line 19, in <module>\n",
      "    from tensorflow.python.framework import ops\n",
      "  File \"/Users/mahas/PycharmProjects/STIRS/.venv/lib/python3.9/site-packages/tensorflow/python/framework/ops.py\", line 62, in <module>\n",
      "    from tensorflow.python.framework import tensor as tensor_lib\n",
      "  File \"/Users/mahas/PycharmProjects/STIRS/.venv/lib/python3.9/site-packages/tensorflow/python/framework/tensor.py\", line 35, in <module>\n",
      "    from tensorflow.python.framework import tensor_util\n",
      "  File \"/Users/mahas/PycharmProjects/STIRS/.venv/lib/python3.9/site-packages/tensorflow/python/framework/tensor_util.py\", line 39, in <module>\n",
      "    from tensorflow.python.framework import fast_tensor_util\n",
      "/Users/mahas/PycharmProjects/STIRS/.venv/lib/python3.9/site-packages/urllib3/__init__.py:35: NotOpenSSLWarning: urllib3 v2 only supports OpenSSL 1.1.1+, currently the 'ssl' module is compiled with 'LibreSSL 2.8.3'. See: https://github.com/urllib3/urllib3/issues/3020\n",
      "  warnings.warn(\n",
      "TensorFlow version 2.19.0 has not been tested with coremltools. You may run into unexpected errors. TensorFlow 2.12.0 is the most recent version that has been tested.\n",
      "Torch version 2.7.1 has not been tested with coremltools. You may run into unexpected errors. Torch 2.5.0 is the most recent version that has been tested.\n",
      "/Users/mahas/PycharmProjects/STIRS/.venv/lib/python3.9/site-packages/tqdm/auto.py:21: TqdmWarning: IProgress not found. Please update jupyter and ipywidgets. See https://ipywidgets.readthedocs.io/en/stable/user_install.html\n",
      "  from .autonotebook import tqdm as notebook_tqdm\n",
      "When both 'convert_to' and 'minimum_deployment_target' not specified, 'convert_to' is set to \"mlprogram\" and 'minimum_deployment_target' is set to ct.target.iOS15 (which is same as ct.target.macOS12). Note: the model will not run on systems older than iOS15/macOS12/watchOS8/tvOS15. In order to make your model run on older system, please set the 'minimum_deployment_target' to iOS14/iOS13. Details please see the link: https://apple.github.io/coremltools/docs-guides/source/target-conversion-formats.html\n",
      "Converting PyTorch Frontend ==> MIL Ops:  98%|█████████▊| 52/53 [00:00<00:00, 5537.03 ops/s]\n",
      "Running MIL frontend_pytorch pipeline: 100%|██████████| 5/5 [00:00<00:00, 1167.42 passes/s]\n",
      "Running MIL default pipeline:   0%|          | 0/89 [00:00<?, ? passes/s]/Users/mahas/PycharmProjects/STIRS/.venv/lib/python3.9/site-packages/coremltools/converters/mil/mil/passes/defs/preprocess.py:273: UserWarning: Output, '72', of the source model, has been renamed to 'var_72' in the Core ML model.\n",
      "  warnings.warn(msg.format(var.name, new_name))\n",
      "Running MIL default pipeline: 100%|██████████| 89/89 [00:00<00:00, 783.06 passes/s]\n",
      "Running MIL backend_mlprogram pipeline: 100%|██████████| 12/12 [00:00<00:00, 1970.39 passes/s]\n"
     ]
    }
   ],
   "execution_count": 3
  },
  {
   "metadata": {
    "ExecuteTime": {
     "end_time": "2025-07-27T07:21:28.464899Z",
     "start_time": "2025-07-27T07:21:28.406071Z"
    }
   },
   "cell_type": "code",
   "source": "",
   "id": "17645866171b4215",
   "outputs": [],
   "execution_count": 6
  },
  {
   "metadata": {
    "ExecuteTime": {
     "end_time": "2025-07-27T07:24:21.682298Z",
     "start_time": "2025-07-27T07:24:21.679251Z"
    }
   },
   "cell_type": "code",
   "source": [
    "model_from_trace.input_description[\"input_ids\"] = \"Input IDs, list of 128-dimensional values, from BERT Tokenizer.\"\n",
    "model_from_trace.output_description[\"var_72\"] = \"Binary classification - 0 is not toxic, 1 is toxic\"\n",
    "model_from_trace.author = \"Mahasvan Mohan\"\n",
    "model_from_trace.short_description = \"TextCNN to classify a sentence as toxic or not\""
   ],
   "id": "5c1d6ba7b7ea68fe",
   "outputs": [],
   "execution_count": 13
  },
  {
   "metadata": {
    "ExecuteTime": {
     "end_time": "2025-07-27T07:26:14.476754Z",
     "start_time": "2025-07-27T07:26:14.430404Z"
    }
   },
   "cell_type": "code",
   "source": "model_from_trace.save(\"ToxicCNN.mlpackage\")",
   "id": "3070bed4c2f9f83d",
   "outputs": [],
   "execution_count": 15
  },
  {
   "metadata": {},
   "cell_type": "code",
   "outputs": [],
   "execution_count": null,
   "source": "",
   "id": "135c844d29771134"
  }
 ],
 "metadata": {
  "kernelspec": {
   "display_name": "Python 3",
   "language": "python",
   "name": "python3"
  },
  "language_info": {
   "codemirror_mode": {
    "name": "ipython",
    "version": 2
   },
   "file_extension": ".py",
   "mimetype": "text/x-python",
   "name": "python",
   "nbconvert_exporter": "python",
   "pygments_lexer": "ipython2",
   "version": "2.7.6"
  }
 },
 "nbformat": 4,
 "nbformat_minor": 5
}
