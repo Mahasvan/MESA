{
 "cells": [
  {
   "metadata": {
    "ExecuteTime": {
     "end_time": "2025-07-27T13:21:50.136965Z",
     "start_time": "2025-07-27T13:21:50.097257Z"
    }
   },
   "cell_type": "code",
   "source": [
    "import torch\n",
    "import torch.nn as nn\n",
    "import torch.nn.functional as F\n",
    "\n",
    "# 1. Re-define the exact same model architecture\n",
    "class CNNTextClassifier(nn.Module):\n",
    "    def __init__(self, vocab_size, embedding_dim, n_filters, filter_size, hidden_dim):\n",
    "        super(CNNTextClassifier, self).__init__()\n",
    "        self.embedding = nn.Embedding(vocab_size, embedding_dim)\n",
    "        self.conv1 = nn.Conv1d(embedding_dim, n_filters, kernel_size=filter_size, padding='valid')\n",
    "        self.pool1 = nn.MaxPool1d(kernel_size=3)\n",
    "        self.conv2 = nn.Conv1d(n_filters, n_filters, kernel_size=filter_size, padding='valid')\n",
    "        self.pool2 = nn.MaxPool1d(kernel_size=3)\n",
    "        self.conv3 = nn.Conv1d(n_filters, n_filters, kernel_size=filter_size, padding='valid')\n",
    "        self.global_pool = nn.AdaptiveMaxPool1d(1)\n",
    "        self.fc1 = nn.Linear(n_filters, hidden_dim)\n",
    "        self.fc2 = nn.Linear(hidden_dim, 1)\n",
    "\n",
    "    def forward(self, input_ids):\n",
    "        embedded = self.embedding(input_ids).permute(0, 2, 1)\n",
    "        x = self.pool1(F.relu(self.conv1(embedded)))\n",
    "        x = self.pool2(F.relu(self.conv2(x)))\n",
    "        x = F.relu(self.conv3(x))\n",
    "        x = self.global_pool(x).squeeze(2)\n",
    "        x = F.relu(self.fc1(x))\n",
    "        output = torch.sigmoid(self.fc2(x))\n",
    "        return output\n",
    "\n",
    "# 2. Instantiate the model with the same parameters used during training\n",
    "model = CNNTextClassifier(\n",
    "    vocab_size=30522,\n",
    "    embedding_dim=50,\n",
    "    n_filters=128,\n",
    "    filter_size=3,\n",
    "    hidden_dim=128\n",
    ")\n",
    "\n",
    "device = torch.device('mps' if torch.mps.is_available() else 'cpu')\n",
    "# 3. Load the saved weights\n",
    "model.load_state_dict(torch.load(\"../cnn_model_trained_torch/cnn_model_trained_pytorch.pth\"))\n",
    "model.to(device)\n",
    "# 4. Set the model to evaluation mode\n",
    "model.eval()\n",
    "print(\"PyTorch model loaded and set to evaluation mode.\")"
   ],
   "id": "fa27203eabb8597a",
   "outputs": [
    {
     "name": "stdout",
     "output_type": "stream",
     "text": [
      "PyTorch model loaded and set to evaluation mode.\n"
     ]
    }
   ],
   "execution_count": 50
  },
  {
   "metadata": {
    "ExecuteTime": {
     "end_time": "2025-07-27T13:24:00.728465Z",
     "start_time": "2025-07-27T13:24:00.656454Z"
    }
   },
   "cell_type": "code",
   "source": [
    "# --- 3. Export to ONNX ---\n",
    "print(\"\\nExporting model to ONNX...\")\n",
    "dummy_input = torch.randint(0, 1000, (1, 128), dtype=torch.long).to(device)\n",
    "onnx_model_path = \"cnn_model.onnx\"\n",
    "torch.onnx.export(\n",
    "    model, dummy_input, onnx_model_path,\n",
    "    input_names=['input_ids'], output_names=['output'], opset_version=12\n",
    ")\n",
    "print(f\"Model exported to {onnx_model_path}\")"
   ],
   "id": "30fe563785d74370",
   "outputs": [
    {
     "name": "stdout",
     "output_type": "stream",
     "text": [
      "\n",
      "Exporting model to ONNX...\n",
      "Model exported to cnn_model.onnx\n"
     ]
    }
   ],
   "execution_count": 70
  },
  {
   "metadata": {
    "ExecuteTime": {
     "end_time": "2025-07-27T13:24:01.567170Z",
     "start_time": "2025-07-27T13:24:01.061171Z"
    }
   },
   "cell_type": "code",
   "source": [
    "import coremltools as ct\n",
    "\n",
    "dummy_input = torch.randint(0, 1000, (1, 128), dtype=torch.int64).to(device)\n",
    "traced_model = torch.jit.trace(model, dummy_input)\n",
    "\n",
    "model_from_trace = ct.convert(\n",
    "    traced_model,\n",
    "    inputs=[ct.TensorType(shape=dummy_input.shape)],\n",
    "    convert_to=\"mlprogram\",\n",
    "    compute_precision=ct.precision.FLOAT32\n",
    ")"
   ],
   "id": "ebebcab87e030f93",
   "outputs": [
    {
     "name": "stderr",
     "output_type": "stream",
     "text": [
      "Converting PyTorch Frontend ==> MIL Ops:  98%|█████████▊| 52/53 [00:00<00:00, 7594.67 ops/s]\n",
      "Running MIL frontend_pytorch pipeline: 100%|██████████| 5/5 [00:00<00:00, 1822.18 passes/s]\n",
      "Running MIL default pipeline: 100%|██████████| 87/87 [00:00<00:00, 1536.21 passes/s]\n",
      "Running MIL backend_mlprogram pipeline: 100%|██████████| 12/12 [00:00<00:00, 2121.19 passes/s]\n"
     ]
    }
   ],
   "execution_count": 71
  },
  {
   "metadata": {
    "ExecuteTime": {
     "end_time": "2025-07-27T13:24:02.454467Z",
     "start_time": "2025-07-27T13:24:02.449920Z"
    }
   },
   "cell_type": "code",
   "source": [
    "model_from_trace.input_description[\"input_ids\"] = \"Input IDs, list of 128-dimensional values, from BERT Tokenizer.\"\n",
    "model_from_trace.output_description[\"var_72\"] = \"Binary classification - 0 is not toxic, 1 is toxic\"\n",
    "model_from_trace.author = \"Mahasvan Mohan\"\n",
    "model_from_trace.short_description = \"TextCNN to classify a sentence as toxic or not\""
   ],
   "id": "5c1d6ba7b7ea68fe",
   "outputs": [],
   "execution_count": 72
  },
  {
   "metadata": {
    "ExecuteTime": {
     "end_time": "2025-07-27T13:24:03.020563Z",
     "start_time": "2025-07-27T13:24:02.926713Z"
    }
   },
   "cell_type": "code",
   "source": "model_from_trace.save(\"ToxicCNN.mlpackage\")",
   "id": "3d69b34667a69e83",
   "outputs": [],
   "execution_count": 73
  },
  {
   "metadata": {
    "ExecuteTime": {
     "end_time": "2025-07-27T13:26:13.249898Z",
     "start_time": "2025-07-27T13:26:13.245032Z"
    }
   },
   "cell_type": "code",
   "source": "input = dummy_input.to(\"cpu\").numpy().astype(\"float32\")",
   "id": "c0a5b7f39282c0a5",
   "outputs": [],
   "execution_count": 85
  },
  {
   "metadata": {
    "ExecuteTime": {
     "end_time": "2025-07-27T13:26:14.122010Z",
     "start_time": "2025-07-27T13:26:14.116788Z"
    }
   },
   "cell_type": "code",
   "source": "input.shape",
   "id": "cb16be150c7556d9",
   "outputs": [
    {
     "data": {
      "text/plain": [
       "(1, 128)"
      ]
     },
     "execution_count": 86,
     "metadata": {},
     "output_type": "execute_result"
    }
   ],
   "execution_count": 86
  },
  {
   "metadata": {
    "ExecuteTime": {
     "end_time": "2025-07-27T13:26:14.632910Z",
     "start_time": "2025-07-27T13:26:14.629265Z"
    }
   },
   "cell_type": "code",
   "source": "print(model_from_trace)",
   "id": "bb6f173713fdce7f",
   "outputs": [
    {
     "name": "stdout",
     "output_type": "stream",
     "text": [
      "input {\n",
      "  name: \"input_ids\"\n",
      "  shortDescription: \"Input IDs, list of 128-dimensional values, from BERT Tokenizer.\"\n",
      "  type {\n",
      "    multiArrayType {\n",
      "      shape: 1\n",
      "      shape: 128\n",
      "      dataType: FLOAT32\n",
      "    }\n",
      "  }\n",
      "}\n",
      "output {\n",
      "  name: \"var_72\"\n",
      "  shortDescription: \"Binary classification - 0 is not toxic, 1 is toxic\"\n",
      "  type {\n",
      "    multiArrayType {\n",
      "      shape: 1\n",
      "      shape: 1\n",
      "      dataType: FLOAT32\n",
      "    }\n",
      "  }\n",
      "}\n",
      "metadata {\n",
      "  shortDescription: \"TextCNN to classify a sentence as toxic or not\"\n",
      "  author: \"Mahasvan Mohan\"\n",
      "  userDefined {\n",
      "    key: \"com.github.apple.coremltools.source\"\n",
      "    value: \"torch==2.7.1\"\n",
      "  }\n",
      "  userDefined {\n",
      "    key: \"com.github.apple.coremltools.source_dialect\"\n",
      "    value: \"TorchScript\"\n",
      "  }\n",
      "  userDefined {\n",
      "    key: \"com.github.apple.coremltools.version\"\n",
      "    value: \"8.3.0\"\n",
      "  }\n",
      "}\n",
      "\n"
     ]
    }
   ],
   "execution_count": 87
  },
  {
   "metadata": {
    "ExecuteTime": {
     "end_time": "2025-07-27T13:26:15.996013Z",
     "start_time": "2025-07-27T13:26:15.973818Z"
    }
   },
   "cell_type": "code",
   "source": "model_from_trace.predict({\"input_ids\": input})",
   "id": "3d2fc9780954ff63",
   "outputs": [
    {
     "data": {
      "text/plain": [
       "{'var_72': array([[0.704842]], dtype=float32)}"
      ]
     },
     "execution_count": 88,
     "metadata": {},
     "output_type": "execute_result"
    }
   ],
   "execution_count": 88
  },
  {
   "metadata": {},
   "cell_type": "code",
   "outputs": [],
   "execution_count": null,
   "source": "",
   "id": "f8794ed5a6433cbf"
  }
 ],
 "metadata": {
  "kernelspec": {
   "display_name": "Python 3",
   "language": "python",
   "name": "python3"
  },
  "language_info": {
   "codemirror_mode": {
    "name": "ipython",
    "version": 2
   },
   "file_extension": ".py",
   "mimetype": "text/x-python",
   "name": "python",
   "nbconvert_exporter": "python",
   "pygments_lexer": "ipython2",
   "version": "2.7.6"
  }
 },
 "nbformat": 4,
 "nbformat_minor": 5
}
