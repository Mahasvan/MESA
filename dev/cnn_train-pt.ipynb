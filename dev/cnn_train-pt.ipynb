{
 "cells": [
  {
   "cell_type": "markdown",
   "metadata": {},
   "source": [
    "# TensorFlow to PyTorch: CNN for Text Classification\n",
    "\n",
    "This notebook is the PyTorch equivalent of the original TensorFlow/Keras notebook. \n",
    "\n",
    "The key differences are:\n",
    "1.  **Model Definition**: PyTorch uses a class-based `nn.Module` to define the model architecture.\n",
    "2.  **Data Handling**: PyTorch uses `Dataset` and `DataLoader` to prepare and batch the data for training.\n",
    "3.  **Training Loop**: PyTorch requires an explicit training and validation loop to be written, whereas Keras abstracts this with the `.fit()` method.\n",
    "4.  **Tensor Shapes**: PyTorch's `nn.Conv1d` layer expects the input shape to be `(batch_size, embedding_dim, sequence_length)`, which requires permuting the tensor dimensions after the embedding layer."
   ],
   "id": "2c4ab032e913e939"
  },
  {
   "cell_type": "markdown",
   "metadata": {},
   "source": [
    "### 1. Importing Necessary Libraries"
   ],
   "id": "2b7731ca4d89d51a"
  },
  {
   "cell_type": "code",
   "metadata": {
    "ExecuteTime": {
     "end_time": "2025-07-27T13:08:46.460895Z",
     "start_time": "2025-07-27T13:08:43.882245Z"
    }
   },
   "source": [
    "import pandas as pd\n",
    "import numpy as np\n",
    "import torch\n",
    "import torch.nn as nn\n",
    "import torch.nn.functional as F\n",
    "from torch.utils.data import DataLoader, TensorDataset\n",
    "from transformers import BertTokenizer\n",
    "from sklearn.model_selection import train_test_split\n",
    "from sklearn.metrics import accuracy_score, precision_score, recall_score, f1_score, classification_report\n",
    "import matplotlib.pyplot as plt\n",
    "import copy"
   ],
   "id": "4a18e181a3f664cf",
   "outputs": [
    {
     "name": "stderr",
     "output_type": "stream",
     "text": [
      "/Users/mahas/PycharmProjects/STIRS/.venv/lib/python3.9/site-packages/urllib3/__init__.py:35: NotOpenSSLWarning: urllib3 v2 only supports OpenSSL 1.1.1+, currently the 'ssl' module is compiled with 'LibreSSL 2.8.3'. See: https://github.com/urllib3/urllib3/issues/3020\n",
      "  warnings.warn(\n",
      "/Users/mahas/PycharmProjects/STIRS/.venv/lib/python3.9/site-packages/tqdm/auto.py:21: TqdmWarning: IProgress not found. Please update jupyter and ipywidgets. See https://ipywidgets.readthedocs.io/en/stable/user_install.html\n",
      "  from .autonotebook import tqdm as notebook_tqdm\n"
     ]
    }
   ],
   "execution_count": 1
  },
  {
   "cell_type": "markdown",
   "metadata": {},
   "source": [
    "### 2. Setting up Parameters and Loading Data"
   ],
   "id": "8e5fcfcef8390723"
  },
  {
   "cell_type": "code",
   "metadata": {
    "ExecuteTime": {
     "end_time": "2025-07-27T13:08:50.854190Z",
     "start_time": "2025-07-27T13:08:46.569917Z"
    }
   },
   "source": [
    "# Setting up the parameters\n",
    "maximum_features = 30522  # Vocabulary size for BERT\n",
    "maximum_length = 128      # Max length of input sequences\n",
    "word_embedding_dims = 50  # Dimension of word embeddings (Note: In PyTorch this is embedding_dim)\n",
    "no_of_filters = 128       # Number of filters for Conv1D\n",
    "kernel_size = 3           # Size of the convolutional kernel\n",
    "hidden_dim_1 = 128        # Neurons in the dense hidden layer\n",
    "\n",
    "batch_size = 64\n",
    "epochs = 10\n",
    "threshold = 0.5\n",
    "DATASET_SIZE = 100_000\n",
    "\n",
    "# Load and preprocess the dataset\n",
    "# Make sure the path to your CSV is correct\n",
    "df = pd.read_csv(\"../jigsaw/dataset_text_target.csv\")\n",
    "df_true = df[df.target > 0.5]\n",
    "df_false = df[df.target <= 0.5]\n",
    "df = pd.concat([df_true[:DATASET_SIZE//2], df_false[:DATASET_SIZE//2]], axis=0)\n",
    "mapper = lambda x: 1 if x > 0.5 else 0\n",
    "df['target'] = df['target'].apply(mapper)\n",
    "\n",
    "# Split data into training and testing sets\n",
    "x_train, x_test, y_train, y_test = train_test_split(\n",
    "    df.comment_text, df.target, test_size=0.2, random_state=42, shuffle=True\n",
    ")"
   ],
   "id": "f69a4d0be88a5af2",
   "outputs": [],
   "execution_count": 2
  },
  {
   "cell_type": "markdown",
   "metadata": {},
   "source": [
    "### 3. Tokenization and Data Preparation\n",
    "Here, we tokenize the text with the BERT tokenizer but set `return_tensors='pt'` for PyTorch tensors. We then create `TensorDataset` and `DataLoader` objects to handle batching."
   ],
   "id": "8241ee08340618fc"
  },
  {
   "cell_type": "code",
   "metadata": {
    "ExecuteTime": {
     "end_time": "2025-07-27T13:09:54.695257Z",
     "start_time": "2025-07-27T13:08:50.868014Z"
    }
   },
   "source": [
    "# Tokenize and encode the data using the BERT tokenizer\n",
    "tokenizer = BertTokenizer.from_pretrained('bert-base-uncased', do_lower_case=True)\n",
    "\n",
    "# Encode the training and test data\n",
    "X_train_encoded = tokenizer.batch_encode_plus(\n",
    "    x_train.tolist(),\n",
    "    padding='max_length',\n",
    "    truncation=True,\n",
    "    max_length=maximum_length,\n",
    "    add_special_tokens=True,\n",
    "    return_tensors='pt',  # Return PyTorch tensors\n",
    ")\n",
    "\n",
    "X_test_encoded = tokenizer.batch_encode_plus(\n",
    "    x_test.tolist(),\n",
    "    padding='max_length',\n",
    "    truncation=True,\n",
    "    max_length=maximum_length,\n",
    "    add_special_tokens=True,\n",
    "    return_tensors='pt', # Return PyTorch tensors\n",
    ")\n",
    "\n",
    "# Create PyTorch Datasets\n",
    "train_dataset = TensorDataset(X_train_encoded['input_ids'], torch.tensor(y_train.values, dtype=torch.float32))\n",
    "test_dataset = TensorDataset(X_test_encoded['input_ids'], torch.tensor(y_test.values, dtype=torch.float32))\n",
    "\n",
    "# Create DataLoaders\n",
    "train_loader = DataLoader(train_dataset, batch_size=batch_size, shuffle=True)\n",
    "test_loader = DataLoader(test_dataset, batch_size=batch_size, shuffle=False)"
   ],
   "id": "b37684832e0b93a9",
   "outputs": [],
   "execution_count": 3
  },
  {
   "cell_type": "markdown",
   "metadata": {},
   "source": [
    "### 4. Building the PyTorch Model\n",
    "\n",
    "We define the CNN architecture as a class inheriting from `torch.nn.Module`. Note the use of `.permute(0, 2, 1)` to make the tensor shape compatible with `nn.Conv1d`."
   ],
   "id": "232719f71b11aaea"
  },
  {
   "cell_type": "code",
   "metadata": {
    "ExecuteTime": {
     "end_time": "2025-07-27T13:09:54.769795Z",
     "start_time": "2025-07-27T13:09:54.712985Z"
    }
   },
   "source": [
    "class CNNTextClassifier(nn.Module):\n",
    "    def __init__(self, vocab_size, embedding_dim, n_filters, filter_size, hidden_dim):\n",
    "        super(CNNTextClassifier, self).__init__()\n",
    "\n",
    "        # Embedding layer\n",
    "        self.embedding = nn.Embedding(vocab_size, embedding_dim)\n",
    "\n",
    "        # Convolutional layers\n",
    "        self.conv1 = nn.Conv1d(embedding_dim, n_filters, kernel_size=filter_size, padding='valid')\n",
    "        self.pool1 = nn.MaxPool1d(kernel_size=3)\n",
    "\n",
    "        self.conv2 = nn.Conv1d(n_filters, n_filters, kernel_size=filter_size, padding='valid')\n",
    "        self.pool2 = nn.MaxPool1d(kernel_size=3)\n",
    "\n",
    "        self.conv3 = nn.Conv1d(n_filters, n_filters, kernel_size=filter_size, padding='valid')\n",
    "        # Global Max Pooling is achieved with AdaptiveMaxPool1d\n",
    "        self.global_pool = nn.AdaptiveMaxPool1d(1)\n",
    "\n",
    "        # Dense layers\n",
    "        self.fc1 = nn.Linear(n_filters, hidden_dim)\n",
    "        self.fc2 = nn.Linear(hidden_dim, 1)\n",
    "\n",
    "\n",
    "    def forward(self, input_ids):\n",
    "        # input_ids shape: (batch_size, seq_len)\n",
    "        embedded = self.embedding(input_ids)\n",
    "        # embedded shape: (batch_size, seq_len, embedding_dim)\n",
    "\n",
    "        # PyTorch Conv1d expects (batch_size, channels, seq_len)\n",
    "        # So we permute the dimensions\n",
    "        embedded = embedded.permute(0, 2, 1)\n",
    "\n",
    "        x = self.pool1(F.relu(self.conv1(embedded)))\n",
    "        x = self.pool2(F.relu(self.conv2(x)))\n",
    "        x = F.relu(self.conv3(x))\n",
    "\n",
    "        x = self.global_pool(x).squeeze(2) # Squeeze to remove the last dimension\n",
    "\n",
    "        x = F.relu(self.fc1(x))\n",
    "        output = torch.sigmoid(self.fc2(x))\n",
    "\n",
    "        return output\n",
    "\n",
    "# Instantiate the model\n",
    "model = CNNTextClassifier(\n",
    "    vocab_size=maximum_features,\n",
    "    embedding_dim=word_embedding_dims,\n",
    "    n_filters=no_of_filters,\n",
    "    filter_size=kernel_size,\n",
    "    hidden_dim=hidden_dim_1\n",
    ")\n",
    "\n",
    "# Set device (use GPU if available)\n",
    "device = torch.device(\"mps\" if torch.mps.is_available() else \"cpu\")\n",
    "model.to(device)"
   ],
   "id": "39231c0639677dba",
   "outputs": [
    {
     "data": {
      "text/plain": [
       "CNNTextClassifier(\n",
       "  (embedding): Embedding(30522, 50)\n",
       "  (conv1): Conv1d(50, 128, kernel_size=(3,), stride=(1,), padding=valid)\n",
       "  (pool1): MaxPool1d(kernel_size=3, stride=3, padding=0, dilation=1, ceil_mode=False)\n",
       "  (conv2): Conv1d(128, 128, kernel_size=(3,), stride=(1,), padding=valid)\n",
       "  (pool2): MaxPool1d(kernel_size=3, stride=3, padding=0, dilation=1, ceil_mode=False)\n",
       "  (conv3): Conv1d(128, 128, kernel_size=(3,), stride=(1,), padding=valid)\n",
       "  (global_pool): AdaptiveMaxPool1d(output_size=1)\n",
       "  (fc1): Linear(in_features=128, out_features=128, bias=True)\n",
       "  (fc2): Linear(in_features=128, out_features=1, bias=True)\n",
       ")"
      ]
     },
     "execution_count": 4,
     "metadata": {},
     "output_type": "execute_result"
    }
   ],
   "execution_count": 4
  },
  {
   "cell_type": "markdown",
   "metadata": {},
   "source": [
    "### 5. Training the Model\n",
    "\n",
    "We define the loss function and optimizer, then write an explicit loop to train the model over 10 epochs and validate its performance."
   ],
   "id": "17796eab2150523e"
  },
  {
   "cell_type": "code",
   "metadata": {
    "ExecuteTime": {
     "end_time": "2025-07-27T13:12:09.317113Z",
     "start_time": "2025-07-27T13:09:54.792282Z"
    }
   },
   "source": [
    "# Loss function and optimizer\n",
    "criterion = nn.BCELoss()\n",
    "optimizer = torch.optim.AdamW(model.parameters())\n",
    "\n",
    "# To store history\n",
    "history = {\n",
    "    'loss': [],\n",
    "    'val_loss': [],\n",
    "    'accuracy': [],\n",
    "    'val_accuracy': []\n",
    "}\n",
    "\n",
    "best_val_loss = float('inf')\n",
    "best_model_wts = copy.deepcopy(model.state_dict())\n",
    "\n",
    "\n",
    "for epoch in range(epochs):\n",
    "    # --- Training Phase ---\n",
    "    model.train()\n",
    "    total_loss = 0\n",
    "    correct_train = 0\n",
    "    total_train = 0\n",
    "\n",
    "    for input_ids, labels in train_loader:\n",
    "        input_ids, labels = input_ids.to(device), labels.to(device).unsqueeze(1)\n",
    "\n",
    "        optimizer.zero_grad()\n",
    "        outputs = model(input_ids)\n",
    "        loss = criterion(outputs, labels)\n",
    "        loss.backward()\n",
    "        optimizer.step()\n",
    "\n",
    "        total_loss += loss.item()\n",
    "        predicted = (outputs > threshold).int()\n",
    "        total_train += labels.size(0)\n",
    "        correct_train += (predicted == labels.int()).sum().item()\n",
    "\n",
    "    avg_train_loss = total_loss / len(train_loader)\n",
    "    train_accuracy = correct_train / total_train\n",
    "\n",
    "    # --- Validation Phase ---\n",
    "    model.eval()\n",
    "    total_val_loss = 0\n",
    "    correct_val = 0\n",
    "    total_val = 0\n",
    "\n",
    "    with torch.no_grad():\n",
    "        for input_ids, labels in test_loader:\n",
    "            input_ids, labels = input_ids.to(device), labels.to(device).unsqueeze(1)\n",
    "            outputs = model(input_ids)\n",
    "            loss = criterion(outputs, labels)\n",
    "            total_val_loss += loss.item()\n",
    "\n",
    "            predicted = (outputs > threshold).int()\n",
    "            total_val += labels.size(0)\n",
    "            correct_val += (predicted == labels.int()).sum().item()\n",
    "\n",
    "    avg_val_loss = total_val_loss / len(test_loader)\n",
    "    val_accuracy = correct_val / total_val\n",
    "    \n",
    "    # Save history\n",
    "    history['loss'].append(avg_train_loss)\n",
    "    history['val_loss'].append(avg_val_loss)\n",
    "    history['accuracy'].append(train_accuracy)\n",
    "    history['val_accuracy'].append(val_accuracy)\n",
    "\n",
    "    # Save the best model\n",
    "    if avg_val_loss < best_val_loss:\n",
    "        best_val_loss = avg_val_loss\n",
    "        best_model_wts = copy.deepcopy(model.state_dict())\n",
    "\n",
    "    print(f\"Epoch {epoch+1}/{epochs} | \"\n",
    "          f\"Train Loss: {avg_train_loss:.4f} | Train Acc: {train_accuracy:.4f} | \"\n",
    "          f\"Val Loss: {avg_val_loss:.4f} | Val Acc: {val_accuracy:.4f}\")\n",
    "\n",
    "# Load best model weights\n",
    "model.load_state_dict(best_model_wts)"
   ],
   "id": "f6c66da83e9379de",
   "outputs": [
    {
     "name": "stdout",
     "output_type": "stream",
     "text": [
      "Epoch 1/10 | Train Loss: 0.4639 | Train Acc: 0.7605 | Val Loss: 0.3098 | Val Acc: 0.8711\n",
      "Epoch 2/10 | Train Loss: 0.2609 | Train Acc: 0.8955 | Val Loss: 0.2608 | Val Acc: 0.8952\n",
      "Epoch 3/10 | Train Loss: 0.2083 | Train Acc: 0.9198 | Val Loss: 0.2542 | Val Acc: 0.9011\n",
      "Epoch 4/10 | Train Loss: 0.1741 | Train Acc: 0.9338 | Val Loss: 0.2551 | Val Acc: 0.9007\n",
      "Epoch 5/10 | Train Loss: 0.1434 | Train Acc: 0.9475 | Val Loss: 0.2643 | Val Acc: 0.9000\n",
      "Epoch 6/10 | Train Loss: 0.1148 | Train Acc: 0.9587 | Val Loss: 0.2932 | Val Acc: 0.8978\n",
      "Epoch 7/10 | Train Loss: 0.0906 | Train Acc: 0.9680 | Val Loss: 0.3245 | Val Acc: 0.8930\n",
      "Epoch 8/10 | Train Loss: 0.0687 | Train Acc: 0.9771 | Val Loss: 0.3806 | Val Acc: 0.8931\n",
      "Epoch 9/10 | Train Loss: 0.0557 | Train Acc: 0.9811 | Val Loss: 0.4447 | Val Acc: 0.8916\n",
      "Epoch 10/10 | Train Loss: 0.0444 | Train Acc: 0.9854 | Val Loss: 0.4557 | Val Acc: 0.8922\n"
     ]
    },
    {
     "data": {
      "text/plain": [
       "<All keys matched successfully>"
      ]
     },
     "execution_count": 5,
     "metadata": {},
     "output_type": "execute_result"
    }
   ],
   "execution_count": 5
  },
  {
   "cell_type": "markdown",
   "metadata": {},
   "source": [
    "### 6. Evaluating the Model"
   ],
   "id": "14e0e422c6b68a73"
  },
  {
   "cell_type": "code",
   "metadata": {
    "ExecuteTime": {
     "end_time": "2025-07-27T13:12:15.741367Z",
     "start_time": "2025-07-27T13:12:14.574518Z"
    }
   },
   "source": [
    "model.eval()\n",
    "y_pred_prob = []\n",
    "y_true = []\n",
    "\n",
    "with torch.no_grad():\n",
    "    for input_ids, labels in test_loader:\n",
    "        input_ids = input_ids.to(device)\n",
    "        outputs = model(input_ids).squeeze()\n",
    "        y_pred_prob.extend(outputs.cpu().numpy())\n",
    "        y_true.extend(labels.cpu().numpy())\n",
    "\n",
    "y_pred = (np.array(y_pred_prob) > threshold).astype(int)\n",
    "\n",
    "# Calculating and printing evaluation metrics\n",
    "print('\\nEvaluation Metrics:')\n",
    "print('Accuracy:', accuracy_score(y_true, y_pred))\n",
    "print('Precision:', precision_score(y_true, y_pred))\n",
    "print('Recall:', recall_score(y_true, y_pred))\n",
    "print('F1-score:', f1_score(y_true, y_pred))\n",
    "print('\\nClassification Report:')\n",
    "print(classification_report(y_true, y_pred))"
   ],
   "id": "9a862e945befca7d",
   "outputs": [
    {
     "name": "stdout",
     "output_type": "stream",
     "text": [
      "\n",
      "Evaluation Metrics:\n",
      "Accuracy: 0.9011\n",
      "Precision: 0.925530791169325\n",
      "Recall: 0.8731439960139512\n",
      "F1-score: 0.898574505178956\n",
      "\n",
      "Classification Report:\n",
      "              precision    recall  f1-score   support\n",
      "\n",
      "         0.0       0.88      0.93      0.90      9965\n",
      "         1.0       0.93      0.87      0.90     10035\n",
      "\n",
      "    accuracy                           0.90     20000\n",
      "   macro avg       0.90      0.90      0.90     20000\n",
      "weighted avg       0.90      0.90      0.90     20000\n",
      "\n"
     ]
    }
   ],
   "execution_count": 9
  },
  {
   "cell_type": "markdown",
   "metadata": {},
   "source": [
    "### 7. Plotting Results"
   ],
   "id": "b633d2a35aa3f788"
  },
  {
   "cell_type": "code",
   "metadata": {
    "ExecuteTime": {
     "end_time": "2025-07-27T13:12:28.270497Z",
     "start_time": "2025-07-27T13:12:28.165147Z"
    }
   },
   "source": [
    "# Plotting Model Accuracy\n",
    "plt.figure(figsize=(12, 5))\n",
    "plt.subplot(1, 2, 1)\n",
    "plt.plot(history[\"accuracy\"])\n",
    "plt.plot(history[\"val_accuracy\"])\n",
    "plt.title(\"Model Accuracy\")\n",
    "plt.ylabel(\"Accuracy\")\n",
    "plt.xlabel(\"Epoch\")\n",
    "plt.legend([\"Train\", \"Validation\"], loc=\"upper left\")\n",
    "\n",
    "# Plotting Model Loss\n",
    "plt.subplot(1, 2, 2)\n",
    "plt.plot(history[\"loss\"])\n",
    "plt.plot(history[\"val_loss\"])\n",
    "plt.title(\"Model Loss\")\n",
    "plt.ylabel(\"Loss\")\n",
    "plt.xlabel(\"Epoch\")\n",
    "plt.legend([\"Train\", \"Validation\"], loc=\"upper left\")\n",
    "\n",
    "plt.tight_layout()\n",
    "plt.show()"
   ],
   "id": "cdeb1744a011b588",
   "outputs": [
    {
     "data": {
      "text/plain": [
       "<Figure size 1200x500 with 2 Axes>"
      ],
      "image/png": "[encoded data removed]"
     },
     "metadata": {},
     "output_type": "display_data"
    }
   ],
   "execution_count": 10
  },
  {
   "cell_type": "markdown",
   "metadata": {},
   "source": [
    "### 8. Saving the Model\n",
    "\n",
    "Finally, we can save the trained model's state dictionary for later use."
   ],
   "id": "279e9e8118f37cf0"
  },
  {
   "cell_type": "code",
   "metadata": {
    "ExecuteTime": {
     "end_time": "2025-07-27T13:12:32.210927Z",
     "start_time": "2025-07-27T13:12:32.188759Z"
    }
   },
   "source": [
    "torch.save(model.state_dict(), \"../cnn_model_trained_torch/cnn_model_trained_pytorch.pth\")\n",
    "print(\"Model saved to cnn_model_trained_pytorch.pth\")"
   ],
   "id": "68c522b907f94b1d",
   "outputs": [
    {
     "name": "stdout",
     "output_type": "stream",
     "text": [
      "Model saved to cnn_model_trained_pytorch.pth\n"
     ]
    }
   ],
   "execution_count": 11
  },
  {
   "metadata": {
    "ExecuteTime": {
     "end_time": "2025-07-27T13:12:13.345907Z",
     "start_time": "2025-07-27T13:12:13.344196Z"
    }
   },
   "cell_type": "code",
   "source": "",
   "id": "fdd0ff6c48a7e619",
   "outputs": [],
   "execution_count": null
  }
 ],
 "metadata": {
  "kernelspec": {
   "display_name": "Python 3 (ipykernel)",
   "language": "python",
   "name": "python3"
  },
  "language_info": {
   "codemirror_mode": {
    "name": "ipython",
    "version": 3
   },
   "file_extension": ".py",
   "mimetype": "text/x-python",
   "name": "python",
   "nbconvert_exporter": "python",
   "pygments_lexer": "ipython3",
   "version": "3.9.7"
  }
 },
 "nbformat": 4,
 "nbformat_minor": 5
}
