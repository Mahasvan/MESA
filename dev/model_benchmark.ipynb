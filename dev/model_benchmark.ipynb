{
 "cells": [
  {
   "cell_type": "code",
   "id": "initial_id",
   "metadata": {
    "collapsed": true,
    "ExecuteTime": {
     "end_time": "2025-05-12T07:10:08.893555Z",
     "start_time": "2025-05-12T07:10:05.043762Z"
    }
   },
   "source": "from transformers import BertTokenizer, TFBertForSequenceClassification",
   "outputs": [
    {
     "name": "stderr",
     "output_type": "stream",
     "text": [
      "/Users/mahas/PycharmProjects/STIRS/.venv/lib/python3.9/site-packages/urllib3/__init__.py:35: NotOpenSSLWarning: urllib3 v2 only supports OpenSSL 1.1.1+, currently the 'ssl' module is compiled with 'LibreSSL 2.8.3'. See: https://github.com/urllib3/urllib3/issues/3020\n",
      "  warnings.warn(\n",
      "/Users/mahas/PycharmProjects/STIRS/.venv/lib/python3.9/site-packages/tqdm/auto.py:21: TqdmWarning: IProgress not found. Please update jupyter and ipywidgets. See https://ipywidgets.readthedocs.io/en/stable/user_install.html\n",
      "  from .autonotebook import tqdm as notebook_tqdm\n"
     ]
    }
   ],
   "execution_count": 1
  },
  {
   "metadata": {
    "ExecuteTime": {
     "end_time": "2025-05-12T07:10:09.345143Z",
     "start_time": "2025-05-12T07:10:08.985968Z"
    }
   },
   "cell_type": "code",
   "source": [
    "#Tokenize and encode the data using the BERT tokenizer\n",
    "tokenizer = BertTokenizer.from_pretrained('bert-base-uncased', do_lower_case=True)\n",
    "max_len = 128"
   ],
   "id": "f4906a4afb207857",
   "outputs": [],
   "execution_count": 2
  },
  {
   "metadata": {
    "ExecuteTime": {
     "end_time": "2025-05-12T07:10:13.492080Z",
     "start_time": "2025-05-12T07:10:09.355185Z"
    }
   },
   "cell_type": "code",
   "source": [
    "DATASET_SIZE = 1000\n",
    "\n",
    "import pandas as pd\n",
    "df = pd.read_csv(\"../jigsaw/dataset_text_target.csv\")\n",
    "df = df.sample(frac=0.1).reset_index(drop=True)\n",
    "df_true = df[df.target > 0.5][:DATASET_SIZE//2]\n",
    "df_false = df[df.target <= 0.5][:DATASET_SIZE//2]\n",
    "df = pd.concat([df_true, df_false], axis=0)\n",
    "mapper = lambda x: 1 if x > 0.5 else 0\n",
    "df.target = df.target.apply(mapper)\n",
    "df = df.sample(frac=1).reset_index(drop=True)"
   ],
   "id": "cf03b812b346b2d2",
   "outputs": [],
   "execution_count": 3
  },
  {
   "metadata": {
    "ExecuteTime": {
     "end_time": "2025-05-12T07:11:10.329459Z",
     "start_time": "2025-05-12T07:11:10.319518Z"
    }
   },
   "cell_type": "code",
   "source": "df.target.value_counts()",
   "id": "938b641a259b788c",
   "outputs": [
    {
     "data": {
      "text/plain": [
       "target\n",
       "0    500\n",
       "1    500\n",
       "Name: count, dtype: int64"
      ]
     },
     "execution_count": 13,
     "metadata": {},
     "output_type": "execute_result"
    }
   ],
   "execution_count": 13
  },
  {
   "metadata": {
    "ExecuteTime": {
     "end_time": "2025-05-12T07:10:14.086999Z",
     "start_time": "2025-05-12T07:10:13.502729Z"
    }
   },
   "cell_type": "code",
   "source": [
    "bert_model = TFBertForSequenceClassification.from_pretrained('../bert_model_trained', num_labels=2)\n",
    "from sklearn.metrics import classification_report\n",
    "import tensorflow as tf\n",
    "import time"
   ],
   "id": "b7db71568a1fa397",
   "outputs": [
    {
     "name": "stderr",
     "output_type": "stream",
     "text": [
      "2025-05-12 12:40:13.507734: I metal_plugin/src/device/metal_device.cc:1154] Metal device set to: Apple M3\n",
      "2025-05-12 12:40:13.507757: I metal_plugin/src/device/metal_device.cc:296] systemMemory: 16.00 GB\n",
      "2025-05-12 12:40:13.507761: I metal_plugin/src/device/metal_device.cc:313] maxCacheSize: 5.33 GB\n",
      "WARNING: All log messages before absl::InitializeLog() is called are written to STDERR\n",
      "I0000 00:00:1747033813.507771  674167 pluggable_device_factory.cc:305] Could not identify NUMA node of platform GPU ID 0, defaulting to 0. Your kernel may not have been built with NUMA support.\n",
      "I0000 00:00:1747033813.507790  674167 pluggable_device_factory.cc:271] Created TensorFlow device (/job:localhost/replica:0/task:0/device:GPU:0 with 0 MB memory) -> physical PluggableDevice (device: 0, name: METAL, pci bus id: <undefined>)\n",
      "All model checkpoint layers were used when initializing TFBertForSequenceClassification.\n",
      "\n",
      "All the layers of TFBertForSequenceClassification were initialized from the model checkpoint at ../bert_model_trained.\n",
      "If your task is similar to the task the model of the checkpoint was trained on, you can already use TFBertForSequenceClassification for predictions without further training.\n"
     ]
    }
   ],
   "execution_count": 4
  },
  {
   "metadata": {
    "ExecuteTime": {
     "end_time": "2025-05-12T07:10:14.707234Z",
     "start_time": "2025-05-12T07:10:14.102312Z"
    }
   },
   "cell_type": "code",
   "source": [
    "# encode once just in case theres any caching going on\n",
    "X_test_encoded = tokenizer.batch_encode_plus(\n",
    "    df.comment_text.tolist(),\n",
    "    padding='max_length',\n",
    "    truncation=True,\n",
    "    max_length=max_len,\n",
    "    add_special_tokens=True,\n",
    "    return_tensors='tf'\n",
    ")\n",
    "\n"
   ],
   "id": "20e7552e3848c37e",
   "outputs": [],
   "execution_count": 5
  },
  {
   "metadata": {
    "ExecuteTime": {
     "end_time": "2025-05-12T07:10:51.176534Z",
     "start_time": "2025-05-12T07:10:14.715795Z"
    }
   },
   "cell_type": "code",
   "source": [
    "start = time.time()\n",
    "\n",
    "X_test_encoded = tokenizer.batch_encode_plus(\n",
    "    df.comment_text.tolist(),\n",
    "    padding='max_length',\n",
    "    truncation=True,\n",
    "    max_length=max_len,\n",
    "    add_special_tokens=True,\n",
    "    return_tensors='tf'\n",
    ")\n",
    "\n",
    "\n",
    "y_pred = bert_model.predict(\n",
    "    [X_test_encoded['input_ids'], X_test_encoded['token_type_ids'], X_test_encoded['attention_mask']])\n",
    "y_pred = tf.argmax(y_pred.logits, axis=1).numpy()\n",
    "\n",
    "end = time.time()"
   ],
   "id": "f1437f0514adf985",
   "outputs": [
    {
     "name": "stderr",
     "output_type": "stream",
     "text": [
      "2025-05-12 12:40:17.289251: I tensorflow/core/grappler/optimizers/custom_graph_optimizer_registry.cc:117] Plugin optimizer for device_type GPU is enabled.\n"
     ]
    },
    {
     "name": "stdout",
     "output_type": "stream",
     "text": [
      "32/32 [==============================] - 36s 1s/step\n"
     ]
    }
   ],
   "execution_count": 6
  },
  {
   "metadata": {},
   "cell_type": "code",
   "outputs": [],
   "execution_count": null,
   "source": "",
   "id": "92ede9549fce56e2"
  },
  {
   "metadata": {
    "ExecuteTime": {
     "end_time": "2025-05-12T07:10:51.189203Z",
     "start_time": "2025-05-12T07:10:51.187073Z"
    }
   },
   "cell_type": "code",
   "source": "print(f\"Time taken per message for BERT: {round(1000*(end-start) / len(df), 3)} ms\")",
   "id": "729301f463d5ce78",
   "outputs": [
    {
     "name": "stdout",
     "output_type": "stream",
     "text": [
      "Time taken per message for BERT: 36.459 ms\n"
     ]
    }
   ],
   "execution_count": 7
  },
  {
   "metadata": {
    "ExecuteTime": {
     "end_time": "2025-05-12T07:10:51.208183Z",
     "start_time": "2025-05-12T07:10:51.200977Z"
    }
   },
   "cell_type": "code",
   "source": "print(classification_report(y_pred, df.target))",
   "id": "5f14a8610ab77e6c",
   "outputs": [
    {
     "name": "stdout",
     "output_type": "stream",
     "text": [
      "              precision    recall  f1-score   support\n",
      "\n",
      "           0       0.87      0.97      0.92       448\n",
      "           1       0.98      0.88      0.93       552\n",
      "\n",
      "    accuracy                           0.92      1000\n",
      "   macro avg       0.92      0.93      0.92      1000\n",
      "weighted avg       0.93      0.92      0.92      1000\n",
      "\n"
     ]
    }
   ],
   "execution_count": 8
  },
  {
   "metadata": {
    "ExecuteTime": {
     "end_time": "2025-05-12T07:10:51.415095Z",
     "start_time": "2025-05-12T07:10:51.228092Z"
    }
   },
   "cell_type": "code",
   "source": [
    "from keras.models import load_model\n",
    "cnn_model = load_model(\"../cnn_model_trained/cnn_model_trained.keras\")"
   ],
   "id": "3dd51ab132de5a1a",
   "outputs": [
    {
     "name": "stderr",
     "output_type": "stream",
     "text": [
      "/Users/mahas/PycharmProjects/STIRS/.venv/lib/python3.9/site-packages/keras/src/trainers/trainer.py:212: UserWarning: Model doesn't support `jit_compile=True`. Proceeding with `jit_compile=False`.\n",
      "  warnings.warn(\n"
     ]
    }
   ],
   "execution_count": 9
  },
  {
   "metadata": {
    "ExecuteTime": {
     "end_time": "2025-05-12T07:10:52.357253Z",
     "start_time": "2025-05-12T07:10:51.429407Z"
    }
   },
   "cell_type": "code",
   "source": [
    "start = time.time()\n",
    "\n",
    "X_test_encoded = tokenizer.batch_encode_plus(\n",
    "    df.comment_text.tolist(),\n",
    "    padding='max_length',\n",
    "    truncation=True,\n",
    "    max_length=max_len,\n",
    "    add_special_tokens=True,\n",
    "    return_tensors='tf'\n",
    ")\n",
    "\n",
    "y_pred = cnn_model.predict(X_test_encoded[\"input_ids\"])\n",
    "y_pred = [1 if y > 0.5 else 0 for y in y_pred]\n",
    "\n",
    "end = time.time()"
   ],
   "id": "576a44af95182ac2",
   "outputs": [
    {
     "name": "stdout",
     "output_type": "stream",
     "text": [
      "\u001B[1m32/32\u001B[0m \u001B[32m━━━━━━━━━━━━━━━━━━━━\u001B[0m\u001B[37m\u001B[0m \u001B[1m0s\u001B[0m 5ms/step\n"
     ]
    }
   ],
   "execution_count": 10
  },
  {
   "metadata": {
    "ExecuteTime": {
     "end_time": "2025-05-12T07:10:52.367674Z",
     "start_time": "2025-05-12T07:10:52.365921Z"
    }
   },
   "cell_type": "code",
   "source": "print(f\"Time taken per message for CNN: {round(1000*(end-start)/len(df), 3)} ms\")",
   "id": "7756737e5d3210dd",
   "outputs": [
    {
     "name": "stdout",
     "output_type": "stream",
     "text": [
      "Time taken per message for CNN: 0.926 ms\n"
     ]
    }
   ],
   "execution_count": 11
  },
  {
   "metadata": {
    "ExecuteTime": {
     "end_time": "2025-05-12T07:10:52.384268Z",
     "start_time": "2025-05-12T07:10:52.378046Z"
    }
   },
   "cell_type": "code",
   "source": "print(classification_report(y_pred, df.target))",
   "id": "e1d59eb3100adfb7",
   "outputs": [
    {
     "name": "stdout",
     "output_type": "stream",
     "text": [
      "              precision    recall  f1-score   support\n",
      "\n",
      "           0       0.74      0.96      0.84       386\n",
      "           1       0.97      0.79      0.87       614\n",
      "\n",
      "    accuracy                           0.86      1000\n",
      "   macro avg       0.86      0.88      0.85      1000\n",
      "weighted avg       0.88      0.86      0.86      1000\n",
      "\n"
     ]
    }
   ],
   "execution_count": 12
  }
 ],
 "metadata": {
  "kernelspec": {
   "display_name": "Python 3",
   "language": "python",
   "name": "python3"
  },
  "language_info": {
   "codemirror_mode": {
    "name": "ipython",
    "version": 2
   },
   "file_extension": ".py",
   "mimetype": "text/x-python",
   "name": "python",
   "nbconvert_exporter": "python",
   "pygments_lexer": "ipython2",
   "version": "2.7.6"
  }
 },
 "nbformat": 4,
 "nbformat_minor": 5
}
