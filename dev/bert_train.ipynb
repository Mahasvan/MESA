{
 "cells": [
  {
   "cell_type": "code",
   "id": "initial_id",
   "metadata": {
    "collapsed": true,
    "ExecuteTime": {
     "end_time": "2025-05-10T06:54:37.974759Z",
     "start_time": "2025-05-10T06:54:37.792823Z"
    }
   },
   "source": "import pandas as pd",
   "outputs": [],
   "execution_count": 1
  },
  {
   "metadata": {
    "ExecuteTime": {
     "end_time": "2025-05-10T06:54:41.946810Z",
     "start_time": "2025-05-10T06:54:38.036100Z"
    }
   },
   "cell_type": "code",
   "source": [
    "df = pd.read_csv(\"../jigsaw/dataset_text_target.csv\")\n",
    "df_true = df[df.target > 0.5]\n",
    "df_false = df[df.target <= 0.5]"
   ],
   "id": "fa85debf16c3e21e",
   "outputs": [],
   "execution_count": 2
  },
  {
   "metadata": {
    "ExecuteTime": {
     "end_time": "2025-05-10T06:54:41.967460Z",
     "start_time": "2025-05-10T06:54:41.959262Z"
    }
   },
   "cell_type": "code",
   "source": "df_true",
   "id": "707c11e12d74cb31",
   "outputs": [
    {
     "data": {
      "text/plain": [
       "                                              comment_text    target\n",
       "4                     haha you guys are a bunch of losers.  0.893617\n",
       "5                                     ur a sh*tty comment.  0.666667\n",
       "13       It's ridiculous that these guys are being call...  0.600000\n",
       "31       Yet call out all Muslims for the acts of a few...  0.912500\n",
       "34       This bitch is nuts. Who would read a book by a...  0.830769\n",
       "...                                                    ...       ...\n",
       "1804786  A sexual predator lives in the White House now...  0.600000\n",
       "1804825  Who is the jerk in the last row between the C ...  0.833333\n",
       "1804838  Nobody really cares that she supports the scie...  0.700000\n",
       "1804857  I take your point, but I think you're shooting...  0.700000\n",
       "1804872  Anyone who is quoted as having the following e...  0.621212\n",
       "\n",
       "[106438 rows x 2 columns]"
      ],
      "text/html": [
       "<div>\n",
       "<style scoped>\n",
       "    .dataframe tbody tr th:only-of-type {\n",
       "        vertical-align: middle;\n",
       "    }\n",
       "\n",
       "    .dataframe tbody tr th {\n",
       "        vertical-align: top;\n",
       "    }\n",
       "\n",
       "    .dataframe thead th {\n",
       "        text-align: right;\n",
       "    }\n",
       "</style>\n",
       "<table border=\"1\" class=\"dataframe\">\n",
       "  <thead>\n",
       "    <tr style=\"text-align: right;\">\n",
       "      <th></th>\n",
       "      <th>comment_text</th>\n",
       "      <th>target</th>\n",
       "    </tr>\n",
       "  </thead>\n",
       "  <tbody>\n",
       "    <tr>\n",
       "      <th>4</th>\n",
       "      <td>haha you guys are a bunch of losers.</td>\n",
       "      <td>0.893617</td>\n",
       "    </tr>\n",
       "    <tr>\n",
       "      <th>5</th>\n",
       "      <td>ur a sh*tty comment.</td>\n",
       "      <td>0.666667</td>\n",
       "    </tr>\n",
       "    <tr>\n",
       "      <th>13</th>\n",
       "      <td>It's ridiculous that these guys are being call...</td>\n",
       "      <td>0.600000</td>\n",
       "    </tr>\n",
       "    <tr>\n",
       "      <th>31</th>\n",
       "      <td>Yet call out all Muslims for the acts of a few...</td>\n",
       "      <td>0.912500</td>\n",
       "    </tr>\n",
       "    <tr>\n",
       "      <th>34</th>\n",
       "      <td>This bitch is nuts. Who would read a book by a...</td>\n",
       "      <td>0.830769</td>\n",
       "    </tr>\n",
       "    <tr>\n",
       "      <th>...</th>\n",
       "      <td>...</td>\n",
       "      <td>...</td>\n",
       "    </tr>\n",
       "    <tr>\n",
       "      <th>1804786</th>\n",
       "      <td>A sexual predator lives in the White House now...</td>\n",
       "      <td>0.600000</td>\n",
       "    </tr>\n",
       "    <tr>\n",
       "      <th>1804825</th>\n",
       "      <td>Who is the jerk in the last row between the C ...</td>\n",
       "      <td>0.833333</td>\n",
       "    </tr>\n",
       "    <tr>\n",
       "      <th>1804838</th>\n",
       "      <td>Nobody really cares that she supports the scie...</td>\n",
       "      <td>0.700000</td>\n",
       "    </tr>\n",
       "    <tr>\n",
       "      <th>1804857</th>\n",
       "      <td>I take your point, but I think you're shooting...</td>\n",
       "      <td>0.700000</td>\n",
       "    </tr>\n",
       "    <tr>\n",
       "      <th>1804872</th>\n",
       "      <td>Anyone who is quoted as having the following e...</td>\n",
       "      <td>0.621212</td>\n",
       "    </tr>\n",
       "  </tbody>\n",
       "</table>\n",
       "<p>106438 rows × 2 columns</p>\n",
       "</div>"
      ]
     },
     "execution_count": 3,
     "metadata": {},
     "output_type": "execute_result"
    }
   ],
   "execution_count": 3
  },
  {
   "metadata": {
    "ExecuteTime": {
     "end_time": "2025-05-10T06:54:42.007435Z",
     "start_time": "2025-05-10T06:54:41.993670Z"
    }
   },
   "cell_type": "code",
   "source": "df = pd.concat([df_true[:500], df_false[:500]], axis=0)",
   "id": "580952eb461fd471",
   "outputs": [],
   "execution_count": 4
  },
  {
   "metadata": {
    "ExecuteTime": {
     "end_time": "2025-05-10T06:54:42.371118Z",
     "start_time": "2025-05-10T06:54:42.034847Z"
    }
   },
   "cell_type": "code",
   "source": "df.target.hist()",
   "id": "4feaa356c3ad14d9",
   "outputs": [
    {
     "data": {
      "text/plain": [
       "<Axes: >"
      ]
     },
     "execution_count": 5,
     "metadata": {},
     "output_type": "execute_result"
    },
    {
     "data": {
      "text/plain": [
       "<Figure size 640x480 with 1 Axes>"
      ],
      "image/png": "[encoded data removed]"
     },
     "metadata": {},
     "output_type": "display_data"
    }
   ],
   "execution_count": 5
  },
  {
   "metadata": {
    "ExecuteTime": {
     "end_time": "2025-05-10T06:54:42.386332Z",
     "start_time": "2025-05-10T06:54:42.383517Z"
    }
   },
   "cell_type": "code",
   "source": [
    "mapper = lambda x: 1 if x > 0.5 else 0\n",
    "df.target = df.target.apply(mapper)"
   ],
   "id": "e30e93cb26af7c85",
   "outputs": [],
   "execution_count": 6
  },
  {
   "metadata": {
    "ExecuteTime": {
     "end_time": "2025-05-10T06:54:46.520566Z",
     "start_time": "2025-05-10T06:54:42.410257Z"
    }
   },
   "cell_type": "code",
   "source": "from transformers import BertTokenizer, TFBertForSequenceClassification",
   "id": "5daf79c277433bd2",
   "outputs": [
    {
     "name": "stderr",
     "output_type": "stream",
     "text": [
      "/Users/mahas/PycharmProjects/STIRS/.venv/lib/python3.9/site-packages/urllib3/__init__.py:35: NotOpenSSLWarning: urllib3 v2 only supports OpenSSL 1.1.1+, currently the 'ssl' module is compiled with 'LibreSSL 2.8.3'. See: https://github.com/urllib3/urllib3/issues/3020\n",
      "  warnings.warn(\n",
      "/Users/mahas/PycharmProjects/STIRS/.venv/lib/python3.9/site-packages/tqdm/auto.py:21: TqdmWarning: IProgress not found. Please update jupyter and ipywidgets. See https://ipywidgets.readthedocs.io/en/stable/user_install.html\n",
      "  from .autonotebook import tqdm as notebook_tqdm\n"
     ]
    }
   ],
   "execution_count": 7
  },
  {
   "metadata": {
    "ExecuteTime": {
     "end_time": "2025-05-10T06:54:46.554595Z",
     "start_time": "2025-05-10T06:54:46.528756Z"
    }
   },
   "cell_type": "code",
   "source": [
    "from sklearn.model_selection import train_test_split\n",
    "x_train, x_test, y_train, y_test = train_test_split(df.comment_text, df.target, test_size=0.2, random_state=42, stratify=df.target, shuffle=True)"
   ],
   "id": "27e9b2bad6fbbe13",
   "outputs": [],
   "execution_count": 8
  },
  {
   "metadata": {
    "ExecuteTime": {
     "end_time": "2025-05-10T06:54:46.565764Z",
     "start_time": "2025-05-10T06:54:46.562389Z"
    }
   },
   "cell_type": "code",
   "source": "y_train.value_counts()",
   "id": "5f9bce77babab92d",
   "outputs": [
    {
     "data": {
      "text/plain": [
       "target\n",
       "1    400\n",
       "0    400\n",
       "Name: count, dtype: int64"
      ]
     },
     "execution_count": 9,
     "metadata": {},
     "output_type": "execute_result"
    }
   ],
   "execution_count": 9
  },
  {
   "metadata": {
    "ExecuteTime": {
     "end_time": "2025-05-10T06:54:47.015884Z",
     "start_time": "2025-05-10T06:54:46.596196Z"
    }
   },
   "cell_type": "code",
   "source": [
    "#Tokenize and encode the data using the BERT tokenizer\n",
    "tokenizer = BertTokenizer.from_pretrained('bert-base-uncased', do_lower_case=True)"
   ],
   "id": "bfafde7749db27ee",
   "outputs": [],
   "execution_count": 10
  },
  {
   "metadata": {
    "ExecuteTime": {
     "end_time": "2025-05-10T06:54:47.044733Z",
     "start_time": "2025-05-10T06:54:47.043076Z"
    }
   },
   "cell_type": "code",
   "source": "max_len = 128",
   "id": "57c0db0a49eea422",
   "outputs": [],
   "execution_count": 11
  },
  {
   "metadata": {
    "ExecuteTime": {
     "end_time": "2025-05-10T06:54:47.705404Z",
     "start_time": "2025-05-10T06:54:47.076596Z"
    }
   },
   "cell_type": "code",
   "source": [
    "X_train_encoded = tokenizer.batch_encode_plus(\n",
    "    x_train.tolist(),\n",
    "    padding='max_length',\n",
    "    truncation=True,\n",
    "    max_length=max_len,\n",
    "    add_special_tokens=True,\n",
    "    return_tensors='tf'\n",
    ")\n",
    "X_test_encoded = tokenizer.batch_encode_plus(\n",
    "    x_test.tolist(),\n",
    "    padding='max_length',\n",
    "    truncation=True,\n",
    "    max_length=max_len,\n",
    "    add_special_tokens=True,\n",
    "    return_tensors='tf'\n",
    ")"
   ],
   "id": "24f30a34ccf36a6f",
   "outputs": [
    {
     "name": "stderr",
     "output_type": "stream",
     "text": [
      "2025-05-10 12:24:47.564884: I metal_plugin/src/device/metal_device.cc:1154] Metal device set to: Apple M3\n",
      "2025-05-10 12:24:47.564910: I metal_plugin/src/device/metal_device.cc:296] systemMemory: 16.00 GB\n",
      "2025-05-10 12:24:47.564915: I metal_plugin/src/device/metal_device.cc:313] maxCacheSize: 5.33 GB\n",
      "WARNING: All log messages before absl::InitializeLog() is called are written to STDERR\n",
      "I0000 00:00:1746860087.565305 11251985 pluggable_device_factory.cc:305] Could not identify NUMA node of platform GPU ID 0, defaulting to 0. Your kernel may not have been built with NUMA support.\n",
      "I0000 00:00:1746860087.565549 11251985 pluggable_device_factory.cc:271] Created TensorFlow device (/job:localhost/replica:0/task:0/device:GPU:0 with 0 MB memory) -> physical PluggableDevice (device: 0, name: METAL, pci bus id: <undefined>)\n"
     ]
    }
   ],
   "execution_count": 12
  },
  {
   "metadata": {
    "ExecuteTime": {
     "end_time": "2025-05-10T06:54:49.602996Z",
     "start_time": "2025-05-10T06:54:47.714622Z"
    }
   },
   "cell_type": "code",
   "source": "model = TFBertForSequenceClassification.from_pretrained('bert-base-uncased', num_labels=2)",
   "id": "1cb999efe34aee03",
   "outputs": [
    {
     "name": "stderr",
     "output_type": "stream",
     "text": [
      "All PyTorch model weights were used when initializing TFBertForSequenceClassification.\n",
      "\n",
      "Some weights or buffers of the TF 2.0 model TFBertForSequenceClassification were not initialized from the PyTorch model and are newly initialized: ['classifier.weight', 'classifier.bias']\n",
      "You should probably TRAIN this model on a down-stream task to be able to use it for predictions and inference.\n"
     ]
    }
   ],
   "execution_count": 13
  },
  {
   "metadata": {
    "ExecuteTime": {
     "end_time": "2025-05-10T06:54:49.607593Z",
     "start_time": "2025-05-10T06:54:49.605962Z"
    }
   },
   "cell_type": "code",
   "source": "import tensorflow as tf",
   "id": "be4e007718c3b4c2",
   "outputs": [],
   "execution_count": 14
  },
  {
   "metadata": {
    "ExecuteTime": {
     "end_time": "2025-05-10T06:54:49.658874Z",
     "start_time": "2025-05-10T06:54:49.622172Z"
    }
   },
   "cell_type": "code",
   "source": [
    "optimizer = tf.keras.optimizers.Adam(learning_rate=2e-5)\n",
    "loss = tf.keras.losses.SparseCategoricalCrossentropy(from_logits=True)\n",
    "metric = tf.keras.metrics.SparseCategoricalAccuracy('accuracy')\n",
    "model.compile(optimizer=optimizer, loss=loss, metrics=[metric])"
   ],
   "id": "95eaac4bbb5f2730",
   "outputs": [
    {
     "name": "stderr",
     "output_type": "stream",
     "text": [
      "WARNING:absl:At this time, the v2.11+ optimizer `tf.keras.optimizers.Adam` runs slowly on M1/M2 Macs, please use the legacy TF-Keras optimizer instead, located at `tf.keras.optimizers.legacy.Adam`.\n"
     ]
    }
   ],
   "execution_count": 15
  },
  {
   "metadata": {
    "ExecuteTime": {
     "end_time": "2025-05-10T07:05:22.819857Z",
     "start_time": "2025-05-10T06:54:49.666024Z"
    }
   },
   "cell_type": "code",
   "source": [
    "history = model.fit(\n",
    "    [X_train_encoded['input_ids'], X_train_encoded['token_type_ids'], X_train_encoded['attention_mask']],\n",
    "    y_train,\n",
    "    validation_data=(\n",
    "        [X_test_encoded['input_ids'], X_test_encoded['token_type_ids'], X_test_encoded['attention_mask']],y_test),\n",
    "    batch_size=32,\n",
    "    epochs=5\n",
    ")"
   ],
   "id": "acc4006b2baa334a",
   "outputs": [
    {
     "name": "stdout",
     "output_type": "stream",
     "text": [
      "Epoch 1/5\n"
     ]
    },
    {
     "name": "stderr",
     "output_type": "stream",
     "text": [
      "2025-05-10 12:24:55.287363: I tensorflow/core/grappler/optimizers/custom_graph_optimizer_registry.cc:117] Plugin optimizer for device_type GPU is enabled.\n",
      "WARNING: All log messages before absl::InitializeLog() is called are written to STDERR\n",
      "E0000 00:00:1746860095.790918 11251985 meta_optimizer.cc:967] model_pruner failed: INVALID_ARGUMENT: Graph does not contain terminal node Adam/AssignAddVariableOp_10.\n"
     ]
    },
    {
     "name": "stdout",
     "output_type": "stream",
     "text": [
      "25/25 [==============================] - 75s 3s/step - loss: 0.6890 - accuracy: 0.5275 - val_loss: 0.6714 - val_accuracy: 0.6150\n",
      "Epoch 2/5\n",
      "25/25 [==============================] - 133s 5s/step - loss: 0.6094 - accuracy: 0.7025 - val_loss: 0.6165 - val_accuracy: 0.6650\n",
      "Epoch 3/5\n",
      "25/25 [==============================] - 150s 6s/step - loss: 0.4315 - accuracy: 0.8225 - val_loss: 0.4069 - val_accuracy: 0.8100\n",
      "Epoch 4/5\n",
      "25/25 [==============================] - 152s 6s/step - loss: 0.2346 - accuracy: 0.9262 - val_loss: 0.3492 - val_accuracy: 0.8700\n",
      "Epoch 5/5\n",
      "25/25 [==============================] - 124s 5s/step - loss: 0.1104 - accuracy: 0.9688 - val_loss: 0.4099 - val_accuracy: 0.8550\n"
     ]
    }
   ],
   "execution_count": 16
  },
  {
   "metadata": {
    "ExecuteTime": {
     "end_time": "2025-05-10T07:05:22.979719Z",
     "start_time": "2025-05-10T07:05:22.961426Z"
    }
   },
   "cell_type": "code",
   "source": "y_test.value_counts()",
   "id": "8c50d1841c90d3c0",
   "outputs": [
    {
     "data": {
      "text/plain": [
       "target\n",
       "1    100\n",
       "0    100\n",
       "Name: count, dtype: int64"
      ]
     },
     "execution_count": 17,
     "metadata": {},
     "output_type": "execute_result"
    }
   ],
   "execution_count": 17
  },
  {
   "metadata": {
    "ExecuteTime": {
     "end_time": "2025-05-10T07:05:23.057951Z",
     "start_time": "2025-05-10T07:05:23.054374Z"
    }
   },
   "cell_type": "code",
   "source": "from sklearn.metrics import classification_report",
   "id": "164e9e090b284d60",
   "outputs": [],
   "execution_count": 18
  },
  {
   "metadata": {
    "ExecuteTime": {
     "end_time": "2025-05-10T07:05:37.959779Z",
     "start_time": "2025-05-10T07:05:23.118668Z"
    }
   },
   "cell_type": "code",
   "source": [
    "y_pred = model.predict(\n",
    "    [X_test_encoded['input_ids'], X_test_encoded['token_type_ids'], X_test_encoded['attention_mask']])\n",
    "y_pred = tf.argmax(y_pred.logits, axis=1).numpy()\n"
   ],
   "id": "c064edf04549e109",
   "outputs": [
    {
     "name": "stdout",
     "output_type": "stream",
     "text": [
      "7/7 [==============================] - 15s 2s/step\n"
     ]
    }
   ],
   "execution_count": 19
  },
  {
   "metadata": {
    "ExecuteTime": {
     "end_time": "2025-05-10T07:05:37.993039Z",
     "start_time": "2025-05-10T07:05:37.977660Z"
    }
   },
   "cell_type": "code",
   "source": "print(classification_report(y_test, y_pred))",
   "id": "f9ba4f269f869ce5",
   "outputs": [
    {
     "name": "stdout",
     "output_type": "stream",
     "text": [
      "              precision    recall  f1-score   support\n",
      "\n",
      "           0       0.92      0.78      0.84       100\n",
      "           1       0.81      0.93      0.87       100\n",
      "\n",
      "    accuracy                           0.85       200\n",
      "   macro avg       0.86      0.85      0.85       200\n",
      "weighted avg       0.86      0.85      0.85       200\n",
      "\n"
     ]
    }
   ],
   "execution_count": 20
  },
  {
   "metadata": {
    "ExecuteTime": {
     "end_time": "2025-05-10T07:14:44.165052Z",
     "start_time": "2025-05-10T07:14:43.253651Z"
    }
   },
   "cell_type": "code",
   "source": "model.save_pretrained(\"bert_model_trained\")",
   "id": "1dfcf023e23a79b9",
   "outputs": [],
   "execution_count": 21
  },
  {
   "metadata": {},
   "cell_type": "code",
   "outputs": [],
   "execution_count": null,
   "source": "",
   "id": "e5d2304e108aad07"
  }
 ],
 "metadata": {
  "kernelspec": {
   "display_name": "Python 3",
   "language": "python",
   "name": "python3"
  },
  "language_info": {
   "codemirror_mode": {
    "name": "ipython",
    "version": 2
   },
   "file_extension": ".py",
   "mimetype": "text/x-python",
   "name": "python",
   "nbconvert_exporter": "python",
   "pygments_lexer": "ipython2",
   "version": "2.7.6"
  }
 },
 "nbformat": 4,
 "nbformat_minor": 5
}
