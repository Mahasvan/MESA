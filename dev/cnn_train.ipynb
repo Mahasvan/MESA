{
 "cells": [
  {
   "metadata": {
    "ExecuteTime": {
     "end_time": "2025-07-27T06:50:29.974452Z",
     "start_time": "2025-07-27T06:50:26.208569Z"
    }
   },
   "cell_type": "code",
   "source": [
    "# importing the necessary libraries\n",
    "import pandas as pd\n",
    "from keras.models import Sequential\n",
    "from keras.layers import Embedding, Conv1D, GlobalMaxPooling1D, Dense, MaxPooling1D\n",
    "from keras.preprocessing.sequence import pad_sequences\n",
    "from keras.datasets import imdb\n",
    "from sklearn.metrics import accuracy_score, precision_score, recall_score, f1_score, classification_report"
   ],
   "id": "dc6ad3dba92af1ce",
   "outputs": [
    {
     "name": "stderr",
     "output_type": "stream",
     "text": [
      "\n",
      "A module that was compiled using NumPy 1.x cannot be run in\n",
      "NumPy 2.0.2 as it may crash. To support both 1.x and 2.x\n",
      "versions of NumPy, modules must be compiled with NumPy 2.0.\n",
      "Some module may need to rebuild instead e.g. with 'pybind11>=2.12'.\n",
      "\n",
      "If you are a user of the module, the easiest solution will be to\n",
      "downgrade to 'numpy<2' or try to upgrade the affected module.\n",
      "We expect that some modules will need time to support NumPy 2.\n",
      "\n",
      "Traceback (most recent call last):  File \"/Applications/Xcode.app/Contents/Developer/Library/Frameworks/Python3.framework/Versions/3.9/lib/python3.9/runpy.py\", line 197, in _run_module_as_main\n",
      "    return _run_code(code, main_globals, None,\n",
      "  File \"/Applications/Xcode.app/Contents/Developer/Library/Frameworks/Python3.framework/Versions/3.9/lib/python3.9/runpy.py\", line 87, in _run_code\n",
      "    exec(code, run_globals)\n",
      "  File \"/Users/mahas/PycharmProjects/STIRS/.venv/lib/python3.9/site-packages/ipykernel_launcher.py\", line 18, in <module>\n",
      "    app.launch_new_instance()\n",
      "  File \"/Users/mahas/PycharmProjects/STIRS/.venv/lib/python3.9/site-packages/traitlets/config/application.py\", line 1075, in launch_instance\n",
      "    app.start()\n",
      "  File \"/Users/mahas/PycharmProjects/STIRS/.venv/lib/python3.9/site-packages/ipykernel/kernelapp.py\", line 739, in start\n",
      "    self.io_loop.start()\n",
      "  File \"/Users/mahas/PycharmProjects/STIRS/.venv/lib/python3.9/site-packages/tornado/platform/asyncio.py\", line 205, in start\n",
      "    self.asyncio_loop.run_forever()\n",
      "  File \"/Applications/Xcode.app/Contents/Developer/Library/Frameworks/Python3.framework/Versions/3.9/lib/python3.9/asyncio/base_events.py\", line 596, in run_forever\n",
      "    self._run_once()\n",
      "  File \"/Applications/Xcode.app/Contents/Developer/Library/Frameworks/Python3.framework/Versions/3.9/lib/python3.9/asyncio/base_events.py\", line 1890, in _run_once\n",
      "    handle._run()\n",
      "  File \"/Applications/Xcode.app/Contents/Developer/Library/Frameworks/Python3.framework/Versions/3.9/lib/python3.9/asyncio/events.py\", line 80, in _run\n",
      "    self._context.run(self._callback, *self._args)\n",
      "  File \"/Users/mahas/PycharmProjects/STIRS/.venv/lib/python3.9/site-packages/ipykernel/kernelbase.py\", line 545, in dispatch_queue\n",
      "    await self.process_one()\n",
      "  File \"/Users/mahas/PycharmProjects/STIRS/.venv/lib/python3.9/site-packages/ipykernel/kernelbase.py\", line 534, in process_one\n",
      "    await dispatch(*args)\n",
      "  File \"/Users/mahas/PycharmProjects/STIRS/.venv/lib/python3.9/site-packages/ipykernel/kernelbase.py\", line 437, in dispatch_shell\n",
      "    await result\n",
      "  File \"/Users/mahas/PycharmProjects/STIRS/.venv/lib/python3.9/site-packages/ipykernel/ipkernel.py\", line 362, in execute_request\n",
      "    await super().execute_request(stream, ident, parent)\n",
      "  File \"/Users/mahas/PycharmProjects/STIRS/.venv/lib/python3.9/site-packages/ipykernel/kernelbase.py\", line 778, in execute_request\n",
      "    reply_content = await reply_content\n",
      "  File \"/Users/mahas/PycharmProjects/STIRS/.venv/lib/python3.9/site-packages/ipykernel/ipkernel.py\", line 449, in do_execute\n",
      "    res = shell.run_cell(\n",
      "  File \"/Users/mahas/PycharmProjects/STIRS/.venv/lib/python3.9/site-packages/ipykernel/zmqshell.py\", line 549, in run_cell\n",
      "    return super().run_cell(*args, **kwargs)\n",
      "  File \"/Users/mahas/PycharmProjects/STIRS/.venv/lib/python3.9/site-packages/IPython/core/interactiveshell.py\", line 3048, in run_cell\n",
      "    result = self._run_cell(\n",
      "  File \"/Users/mahas/PycharmProjects/STIRS/.venv/lib/python3.9/site-packages/IPython/core/interactiveshell.py\", line 3103, in _run_cell\n",
      "    result = runner(coro)\n",
      "  File \"/Users/mahas/PycharmProjects/STIRS/.venv/lib/python3.9/site-packages/IPython/core/async_helpers.py\", line 129, in _pseudo_sync_runner\n",
      "    coro.send(None)\n",
      "  File \"/Users/mahas/PycharmProjects/STIRS/.venv/lib/python3.9/site-packages/IPython/core/interactiveshell.py\", line 3308, in run_cell_async\n",
      "    has_raised = await self.run_ast_nodes(code_ast.body, cell_name,\n",
      "  File \"/Users/mahas/PycharmProjects/STIRS/.venv/lib/python3.9/site-packages/IPython/core/interactiveshell.py\", line 3490, in run_ast_nodes\n",
      "    if await self.run_code(code, result, async_=asy):\n",
      "  File \"/Users/mahas/PycharmProjects/STIRS/.venv/lib/python3.9/site-packages/IPython/core/interactiveshell.py\", line 3550, in run_code\n",
      "    exec(code_obj, self.user_global_ns, self.user_ns)\n",
      "  File \"/var/folders/w3/cp_fltc96sq0kv1h35bvdlqh0000gn/T/ipykernel_16853/2123778950.py\", line 3, in <module>\n",
      "    from keras.models import Sequential\n",
      "  File \"/Users/mahas/PycharmProjects/STIRS/.venv/lib/python3.9/site-packages/keras/__init__.py\", line 7, in <module>\n",
      "    from keras import _tf_keras as _tf_keras\n",
      "  File \"/Users/mahas/PycharmProjects/STIRS/.venv/lib/python3.9/site-packages/keras/_tf_keras/__init__.py\", line 1, in <module>\n",
      "    from keras._tf_keras import keras\n",
      "  File \"/Users/mahas/PycharmProjects/STIRS/.venv/lib/python3.9/site-packages/keras/_tf_keras/keras/__init__.py\", line 7, in <module>\n",
      "    from keras import activations as activations\n",
      "  File \"/Users/mahas/PycharmProjects/STIRS/.venv/lib/python3.9/site-packages/keras/activations/__init__.py\", line 7, in <module>\n",
      "    from keras.src.activations import deserialize as deserialize\n",
      "  File \"/Users/mahas/PycharmProjects/STIRS/.venv/lib/python3.9/site-packages/keras/src/__init__.py\", line 1, in <module>\n",
      "    from keras.src import activations\n",
      "  File \"/Users/mahas/PycharmProjects/STIRS/.venv/lib/python3.9/site-packages/keras/src/activations/__init__.py\", line 3, in <module>\n",
      "    from keras.src.activations.activations import celu\n",
      "  File \"/Users/mahas/PycharmProjects/STIRS/.venv/lib/python3.9/site-packages/keras/src/activations/activations.py\", line 1, in <module>\n",
      "    from keras.src import backend\n",
      "  File \"/Users/mahas/PycharmProjects/STIRS/.venv/lib/python3.9/site-packages/keras/src/backend/__init__.py\", line 10, in <module>\n",
      "    from keras.src.backend.common.dtypes import result_type\n",
      "  File \"/Users/mahas/PycharmProjects/STIRS/.venv/lib/python3.9/site-packages/keras/src/backend/common/__init__.py\", line 2, in <module>\n",
      "    from keras.src.backend.common.dtypes import result_type\n",
      "  File \"/Users/mahas/PycharmProjects/STIRS/.venv/lib/python3.9/site-packages/keras/src/backend/common/dtypes.py\", line 5, in <module>\n",
      "    from keras.src.backend.common.variables import standardize_dtype\n",
      "  File \"/Users/mahas/PycharmProjects/STIRS/.venv/lib/python3.9/site-packages/keras/src/backend/common/variables.py\", line 11, in <module>\n",
      "    from keras.src.utils.module_utils import tensorflow as tf\n",
      "  File \"/Users/mahas/PycharmProjects/STIRS/.venv/lib/python3.9/site-packages/keras/src/utils/__init__.py\", line 1, in <module>\n",
      "    from keras.src.utils.audio_dataset_utils import audio_dataset_from_directory\n",
      "  File \"/Users/mahas/PycharmProjects/STIRS/.venv/lib/python3.9/site-packages/keras/src/utils/audio_dataset_utils.py\", line 4, in <module>\n",
      "    from keras.src.utils import dataset_utils\n",
      "  File \"/Users/mahas/PycharmProjects/STIRS/.venv/lib/python3.9/site-packages/keras/src/utils/dataset_utils.py\", line 9, in <module>\n",
      "    from keras.src import tree\n",
      "  File \"/Users/mahas/PycharmProjects/STIRS/.venv/lib/python3.9/site-packages/keras/src/tree/__init__.py\", line 1, in <module>\n",
      "    from keras.src.tree.tree_api import assert_same_paths\n",
      "  File \"/Users/mahas/PycharmProjects/STIRS/.venv/lib/python3.9/site-packages/keras/src/tree/tree_api.py\", line 8, in <module>\n",
      "    from keras.src.tree import optree_impl as tree_impl\n",
      "  File \"/Users/mahas/PycharmProjects/STIRS/.venv/lib/python3.9/site-packages/keras/src/tree/optree_impl.py\", line 13, in <module>\n",
      "    from tensorflow.python.trackable.data_structures import ListWrapper\n",
      "  File \"/Users/mahas/PycharmProjects/STIRS/.venv/lib/python3.9/site-packages/tensorflow/__init__.py\", line 49, in <module>\n",
      "    from tensorflow._api.v2 import __internal__\n",
      "  File \"/Users/mahas/PycharmProjects/STIRS/.venv/lib/python3.9/site-packages/tensorflow/_api/v2/__internal__/__init__.py\", line 8, in <module>\n",
      "    from tensorflow._api.v2.__internal__ import autograph\n",
      "  File \"/Users/mahas/PycharmProjects/STIRS/.venv/lib/python3.9/site-packages/tensorflow/_api/v2/__internal__/autograph/__init__.py\", line 8, in <module>\n",
      "    from tensorflow.python.autograph.core.ag_ctx import control_status_ctx # line: 34\n",
      "  File \"/Users/mahas/PycharmProjects/STIRS/.venv/lib/python3.9/site-packages/tensorflow/python/autograph/core/ag_ctx.py\", line 21, in <module>\n",
      "    from tensorflow.python.autograph.utils import ag_logging\n",
      "  File \"/Users/mahas/PycharmProjects/STIRS/.venv/lib/python3.9/site-packages/tensorflow/python/autograph/utils/__init__.py\", line 17, in <module>\n",
      "    from tensorflow.python.autograph.utils.context_managers import control_dependency_on_returns\n",
      "  File \"/Users/mahas/PycharmProjects/STIRS/.venv/lib/python3.9/site-packages/tensorflow/python/autograph/utils/context_managers.py\", line 19, in <module>\n",
      "    from tensorflow.python.framework import ops\n",
      "  File \"/Users/mahas/PycharmProjects/STIRS/.venv/lib/python3.9/site-packages/tensorflow/python/framework/ops.py\", line 62, in <module>\n",
      "    from tensorflow.python.framework import tensor as tensor_lib\n",
      "  File \"/Users/mahas/PycharmProjects/STIRS/.venv/lib/python3.9/site-packages/tensorflow/python/framework/tensor.py\", line 35, in <module>\n",
      "    from tensorflow.python.framework import tensor_util\n",
      "  File \"/Users/mahas/PycharmProjects/STIRS/.venv/lib/python3.9/site-packages/tensorflow/python/framework/tensor_util.py\", line 39, in <module>\n",
      "    from tensorflow.python.framework import fast_tensor_util\n",
      "/Users/mahas/PycharmProjects/STIRS/.venv/lib/python3.9/site-packages/urllib3/__init__.py:35: NotOpenSSLWarning: urllib3 v2 only supports OpenSSL 1.1.1+, currently the 'ssl' module is compiled with 'LibreSSL 2.8.3'. See: https://github.com/urllib3/urllib3/issues/3020\n",
      "  warnings.warn(\n"
     ]
    }
   ],
   "execution_count": 2
  },
  {
   "metadata": {
    "ExecuteTime": {
     "end_time": "2025-07-27T06:50:29.984675Z",
     "start_time": "2025-07-27T06:50:29.982065Z"
    }
   },
   "cell_type": "code",
   "source": [
    "# Setting up the parameters\n",
    "maximum_features = 30522  # Maximum number of words to consider as features\n",
    "maximum_length = 128  # Maximum length of input sequences\n",
    "word_embedding_dims = 50  # Dimension of word embeddings\n",
    "no_of_filters = 128  # Number of filters in the convolutional layer\n",
    "kernel_size = 3  # Size of the convolutional filters\n",
    "hidden_dim_1 = 128  # Number of neurons in the hidden layer\n",
    "\n",
    "batch_size = 64  # Batch size for training\n",
    "epochs = 10  # Number of training epochs\n",
    "threshold = 0.5  # Threshold for binary classification\n"
   ],
   "id": "bfe61bec24891651",
   "outputs": [],
   "execution_count": 3
  },
  {
   "metadata": {
    "ExecuteTime": {
     "end_time": "2025-05-10T11:41:27.483485Z",
     "start_time": "2025-05-10T11:41:27.481965Z"
    }
   },
   "cell_type": "code",
   "source": "DATASET_SIZE = 10_000",
   "id": "335fe48d85214247",
   "outputs": [],
   "execution_count": 3
  },
  {
   "metadata": {
    "ExecuteTime": {
     "end_time": "2025-05-10T11:41:31.720481Z",
     "start_time": "2025-05-10T11:41:27.488950Z"
    }
   },
   "cell_type": "code",
   "source": [
    "df = pd.read_csv(\"../jigsaw/dataset_text_target.csv\")\n",
    "df_true = df[df.target > 0.5]\n",
    "df_false = df[df.target <= 0.5]\n",
    "df = pd.concat([df_true[:DATASET_SIZE//2], df_false[:DATASET_SIZE//2]], axis=0)\n",
    "mapper = lambda x: 1 if x > 0.5 else 0\n",
    "df.target = df.target.apply(mapper)"
   ],
   "id": "3756ac8ae0c776f8",
   "outputs": [],
   "execution_count": 4
  },
  {
   "metadata": {
    "ExecuteTime": {
     "end_time": "2025-05-10T11:41:32.318894Z",
     "start_time": "2025-05-10T11:41:31.731749Z"
    }
   },
   "cell_type": "code",
   "source": [
    "from transformers import BertTokenizer\n",
    "from sklearn.model_selection import train_test_split\n",
    "x_train, x_test, y_train, y_test = train_test_split(df.comment_text, df.target, test_size=0.2, random_state=42, shuffle=True)\n"
   ],
   "id": "af92ff3abe20f98c",
   "outputs": [
    {
     "name": "stderr",
     "output_type": "stream",
     "text": [
      "/Users/mahas/PycharmProjects/STIRS/.venv/lib/python3.9/site-packages/tqdm/auto.py:21: TqdmWarning: IProgress not found. Please update jupyter and ipywidgets. See https://ipywidgets.readthedocs.io/en/stable/user_install.html\n",
      "  from .autonotebook import tqdm as notebook_tqdm\n"
     ]
    }
   ],
   "execution_count": 5
  },
  {
   "metadata": {
    "ExecuteTime": {
     "end_time": "2025-05-10T11:41:33.800752Z",
     "start_time": "2025-05-10T11:41:32.329336Z"
    }
   },
   "cell_type": "code",
   "source": [
    "#Tokenize and encode the data using the BERT tokenizer\n",
    "tokenizer = BertTokenizer.from_pretrained('bert-base-uncased', do_lower_case=True)"
   ],
   "id": "d2be6dd742e913f5",
   "outputs": [],
   "execution_count": 6
  },
  {
   "metadata": {
    "ExecuteTime": {
     "end_time": "2025-05-10T11:41:40.414858Z",
     "start_time": "2025-05-10T11:41:33.813840Z"
    }
   },
   "cell_type": "code",
   "source": [
    "X_train_encoded = tokenizer.batch_encode_plus(\n",
    "    x_train.tolist(),\n",
    "    padding='max_length',\n",
    "    truncation=True,\n",
    "    max_length=maximum_length,\n",
    "    add_special_tokens=True,\n",
    "    return_tensors='tf',\n",
    ")\n",
    "X_test_encoded = tokenizer.batch_encode_plus(\n",
    "    x_test.tolist(),\n",
    "    padding='max_length',\n",
    "    truncation=True,\n",
    "    max_length=maximum_length,\n",
    "    add_special_tokens=True,\n",
    "    return_tensors='tf'\n",
    ")"
   ],
   "id": "acfc19b1275fbbd9",
   "outputs": [
    {
     "name": "stderr",
     "output_type": "stream",
     "text": [
      "2025-05-10 17:11:39.065969: I metal_plugin/src/device/metal_device.cc:1154] Metal device set to: Apple M3\n",
      "2025-05-10 17:11:39.066003: I metal_plugin/src/device/metal_device.cc:296] systemMemory: 16.00 GB\n",
      "2025-05-10 17:11:39.066014: I metal_plugin/src/device/metal_device.cc:313] maxCacheSize: 5.33 GB\n",
      "WARNING: All log messages before absl::InitializeLog() is called are written to STDERR\n",
      "I0000 00:00:1746877299.066025 11534825 pluggable_device_factory.cc:305] Could not identify NUMA node of platform GPU ID 0, defaulting to 0. Your kernel may not have been built with NUMA support.\n",
      "I0000 00:00:1746877299.066040 11534825 pluggable_device_factory.cc:271] Created TensorFlow device (/job:localhost/replica:0/task:0/device:GPU:0 with 0 MB memory) -> physical PluggableDevice (device: 0, name: METAL, pci bus id: <undefined>)\n"
     ]
    }
   ],
   "execution_count": 7
  },
  {
   "metadata": {
    "ExecuteTime": {
     "end_time": "2025-05-10T11:41:40.430990Z",
     "start_time": "2025-05-10T11:41:40.424489Z"
    }
   },
   "cell_type": "code",
   "source": [
    "# Building the model\n",
    "model = Sequential()\n",
    "# Adding the embedding layer to convert input sequences to dense vectors\n",
    "model.add(Embedding(maximum_features, word_embedding_dims))\n",
    "\n",
    "# Adding the first 1D convolutional layer with ReLU activation\n",
    "model.add(Conv1D(no_of_filters, kernel_size, padding='valid',\n",
    "                 activation='relu', strides=1))\n",
    "model.add(MaxPooling1D(pool_size=3))\n",
    "\n",
    "model.add(Conv1D(no_of_filters, kernel_size, padding='valid',\n",
    "                 activation='relu', strides=1))\n",
    "model.add(MaxPooling1D(pool_size=3))\n",
    "\n",
    "model.add(Conv1D(no_of_filters, kernel_size, padding='valid',\n",
    "                 activation='relu', strides=1))\n",
    "model.add(GlobalMaxPooling1D())\n",
    "\n",
    "# Adding the dense hidden layer with ReLU activation\n",
    "model.add(Dense(hidden_dim_1, activation='relu'))\n",
    "\n",
    "# Adding the output layer with sigmoid activation for binary classification\n",
    "model.add(Dense(1, activation='sigmoid'))\n"
   ],
   "id": "b4484cdd83841972",
   "outputs": [],
   "execution_count": 8
  },
  {
   "metadata": {
    "ExecuteTime": {
     "end_time": "2025-05-10T11:41:40.446873Z",
     "start_time": "2025-05-10T11:41:40.444375Z"
    }
   },
   "cell_type": "code",
   "source": "from keras.optimizers import AdamW",
   "id": "2614304dcddbc0b5",
   "outputs": [],
   "execution_count": 9
  },
  {
   "metadata": {
    "ExecuteTime": {
     "end_time": "2025-05-10T11:41:40.492969Z",
     "start_time": "2025-05-10T11:41:40.454818Z"
    }
   },
   "cell_type": "code",
   "source": [
    "# Compiling the model with binary cross-entropy loss and Adam optimizer\n",
    "model.compile(loss='binary_crossentropy',\n",
    "              optimizer=AdamW(), metrics=['accuracy'])"
   ],
   "id": "f83113421f7e48c3",
   "outputs": [],
   "execution_count": 10
  },
  {
   "metadata": {
    "ExecuteTime": {
     "end_time": "2025-05-10T11:42:08.154054Z",
     "start_time": "2025-05-10T11:41:40.501432Z"
    }
   },
   "cell_type": "code",
   "source": [
    "# Training the model\n",
    "history = model.fit(X_train_encoded[\"input_ids\"], y_train, batch_size=batch_size,\n",
    "          epochs=epochs, validation_data=(X_test_encoded[\"input_ids\"], y_test))"
   ],
   "id": "d32908d268537a35",
   "outputs": [
    {
     "name": "stdout",
     "output_type": "stream",
     "text": [
      "Epoch 1/10\n"
     ]
    },
    {
     "name": "stderr",
     "output_type": "stream",
     "text": [
      "2025-05-10 17:11:40.809784: I tensorflow/core/grappler/optimizers/custom_graph_optimizer_registry.cc:117] Plugin optimizer for device_type GPU is enabled.\n"
     ]
    },
    {
     "name": "stdout",
     "output_type": "stream",
     "text": [
      "\u001B[1m125/125\u001B[0m \u001B[32m━━━━━━━━━━━━━━━━━━━━\u001B[0m\u001B[37m\u001B[0m \u001B[1m4s\u001B[0m 23ms/step - accuracy: 0.5237 - loss: 0.6908 - val_accuracy: 0.6850 - val_loss: 0.5959\n",
      "Epoch 2/10\n",
      "\u001B[1m125/125\u001B[0m \u001B[32m━━━━━━━━━━━━━━━━━━━━\u001B[0m\u001B[37m\u001B[0m \u001B[1m3s\u001B[0m 21ms/step - accuracy: 0.8174 - loss: 0.4013 - val_accuracy: 0.8935 - val_loss: 0.2714\n",
      "Epoch 3/10\n",
      "\u001B[1m125/125\u001B[0m \u001B[32m━━━━━━━━━━━━━━━━━━━━\u001B[0m\u001B[37m\u001B[0m \u001B[1m3s\u001B[0m 20ms/step - accuracy: 0.9664 - loss: 0.1045 - val_accuracy: 0.8775 - val_loss: 0.3469\n",
      "Epoch 4/10\n",
      "\u001B[1m125/125\u001B[0m \u001B[32m━━━━━━━━━━━━━━━━━━━━\u001B[0m\u001B[37m\u001B[0m \u001B[1m3s\u001B[0m 21ms/step - accuracy: 0.9890 - loss: 0.0350 - val_accuracy: 0.8755 - val_loss: 0.5198\n",
      "Epoch 5/10\n",
      "\u001B[1m125/125\u001B[0m \u001B[32m━━━━━━━━━━━━━━━━━━━━\u001B[0m\u001B[37m\u001B[0m \u001B[1m3s\u001B[0m 21ms/step - accuracy: 0.9982 - loss: 0.0069 - val_accuracy: 0.8660 - val_loss: 0.6537\n",
      "Epoch 6/10\n",
      "\u001B[1m125/125\u001B[0m \u001B[32m━━━━━━━━━━━━━━━━━━━━\u001B[0m\u001B[37m\u001B[0m \u001B[1m3s\u001B[0m 21ms/step - accuracy: 0.9985 - loss: 0.0054 - val_accuracy: 0.8780 - val_loss: 0.7287\n",
      "Epoch 7/10\n",
      "\u001B[1m125/125\u001B[0m \u001B[32m━━━━━━━━━━━━━━━━━━━━\u001B[0m\u001B[37m\u001B[0m \u001B[1m3s\u001B[0m 21ms/step - accuracy: 0.9992 - loss: 0.0038 - val_accuracy: 0.8710 - val_loss: 0.7983\n",
      "Epoch 8/10\n",
      "\u001B[1m125/125\u001B[0m \u001B[32m━━━━━━━━━━━━━━━━━━━━\u001B[0m\u001B[37m\u001B[0m \u001B[1m3s\u001B[0m 21ms/step - accuracy: 0.9995 - loss: 0.0033 - val_accuracy: 0.8700 - val_loss: 0.7667\n",
      "Epoch 9/10\n",
      "\u001B[1m125/125\u001B[0m \u001B[32m━━━━━━━━━━━━━━━━━━━━\u001B[0m\u001B[37m\u001B[0m \u001B[1m3s\u001B[0m 21ms/step - accuracy: 0.9995 - loss: 0.0014 - val_accuracy: 0.8725 - val_loss: 0.7741\n",
      "Epoch 10/10\n",
      "\u001B[1m125/125\u001B[0m \u001B[32m━━━━━━━━━━━━━━━━━━━━\u001B[0m\u001B[37m\u001B[0m \u001B[1m3s\u001B[0m 20ms/step - accuracy: 0.9998 - loss: 0.0016 - val_accuracy: 0.8690 - val_loss: 0.8031\n"
     ]
    }
   ],
   "execution_count": 11
  },
  {
   "metadata": {
    "ExecuteTime": {
     "end_time": "2025-05-10T11:42:08.191224Z",
     "start_time": "2025-05-10T11:42:08.175544Z"
    }
   },
   "cell_type": "code",
   "source": "model.summary()",
   "id": "ecf785ea17c7be37",
   "outputs": [
    {
     "data": {
      "text/plain": [
       "\u001B[1mModel: \"sequential\"\u001B[0m\n"
      ],
      "text/html": [
       "<pre style=\"white-space:pre;overflow-x:auto;line-height:normal;font-family:Menlo,'DejaVu Sans Mono',consolas,'Courier New',monospace\"><span style=\"font-weight: bold\">Model: \"sequential\"</span>\n",
       "</pre>\n"
      ]
     },
     "metadata": {},
     "output_type": "display_data"
    },
    {
     "data": {
      "text/plain": [
       "┏━━━━━━━━━━━━━━━━━━━━━━━━━━━━━━━━━┳━━━━━━━━━━━━━━━━━━━━━━━━┳━━━━━━━━━━━━━━━┓\n",
       "┃\u001B[1m \u001B[0m\u001B[1mLayer (type)                   \u001B[0m\u001B[1m \u001B[0m┃\u001B[1m \u001B[0m\u001B[1mOutput Shape          \u001B[0m\u001B[1m \u001B[0m┃\u001B[1m \u001B[0m\u001B[1m      Param #\u001B[0m\u001B[1m \u001B[0m┃\n",
       "┡━━━━━━━━━━━━━━━━━━━━━━━━━━━━━━━━━╇━━━━━━━━━━━━━━━━━━━━━━━━╇━━━━━━━━━━━━━━━┩\n",
       "│ embedding (\u001B[38;5;33mEmbedding\u001B[0m)           │ (\u001B[38;5;34m64\u001B[0m, \u001B[38;5;34m128\u001B[0m, \u001B[38;5;34m50\u001B[0m)          │     \u001B[38;5;34m1,526,100\u001B[0m │\n",
       "├─────────────────────────────────┼────────────────────────┼───────────────┤\n",
       "│ conv1d (\u001B[38;5;33mConv1D\u001B[0m)                 │ (\u001B[38;5;34m64\u001B[0m, \u001B[38;5;34m126\u001B[0m, \u001B[38;5;34m128\u001B[0m)         │        \u001B[38;5;34m19,328\u001B[0m │\n",
       "├─────────────────────────────────┼────────────────────────┼───────────────┤\n",
       "│ max_pooling1d (\u001B[38;5;33mMaxPooling1D\u001B[0m)    │ (\u001B[38;5;34m64\u001B[0m, \u001B[38;5;34m42\u001B[0m, \u001B[38;5;34m128\u001B[0m)          │             \u001B[38;5;34m0\u001B[0m │\n",
       "├─────────────────────────────────┼────────────────────────┼───────────────┤\n",
       "│ conv1d_1 (\u001B[38;5;33mConv1D\u001B[0m)               │ (\u001B[38;5;34m64\u001B[0m, \u001B[38;5;34m40\u001B[0m, \u001B[38;5;34m128\u001B[0m)          │        \u001B[38;5;34m49,280\u001B[0m │\n",
       "├─────────────────────────────────┼────────────────────────┼───────────────┤\n",
       "│ max_pooling1d_1 (\u001B[38;5;33mMaxPooling1D\u001B[0m)  │ (\u001B[38;5;34m64\u001B[0m, \u001B[38;5;34m13\u001B[0m, \u001B[38;5;34m128\u001B[0m)          │             \u001B[38;5;34m0\u001B[0m │\n",
       "├─────────────────────────────────┼────────────────────────┼───────────────┤\n",
       "│ conv1d_2 (\u001B[38;5;33mConv1D\u001B[0m)               │ (\u001B[38;5;34m64\u001B[0m, \u001B[38;5;34m11\u001B[0m, \u001B[38;5;34m128\u001B[0m)          │        \u001B[38;5;34m49,280\u001B[0m │\n",
       "├─────────────────────────────────┼────────────────────────┼───────────────┤\n",
       "│ global_max_pooling1d            │ (\u001B[38;5;34m64\u001B[0m, \u001B[38;5;34m128\u001B[0m)              │             \u001B[38;5;34m0\u001B[0m │\n",
       "│ (\u001B[38;5;33mGlobalMaxPooling1D\u001B[0m)            │                        │               │\n",
       "├─────────────────────────────────┼────────────────────────┼───────────────┤\n",
       "│ dense (\u001B[38;5;33mDense\u001B[0m)                   │ (\u001B[38;5;34m64\u001B[0m, \u001B[38;5;34m128\u001B[0m)              │        \u001B[38;5;34m16,512\u001B[0m │\n",
       "├─────────────────────────────────┼────────────────────────┼───────────────┤\n",
       "│ dense_1 (\u001B[38;5;33mDense\u001B[0m)                 │ (\u001B[38;5;34m64\u001B[0m, \u001B[38;5;34m1\u001B[0m)                │           \u001B[38;5;34m129\u001B[0m │\n",
       "└─────────────────────────────────┴────────────────────────┴───────────────┘\n"
      ],
      "text/html": [
       "<pre style=\"white-space:pre;overflow-x:auto;line-height:normal;font-family:Menlo,'DejaVu Sans Mono',consolas,'Courier New',monospace\">┏━━━━━━━━━━━━━━━━━━━━━━━━━━━━━━━━━┳━━━━━━━━━━━━━━━━━━━━━━━━┳━━━━━━━━━━━━━━━┓\n",
       "┃<span style=\"font-weight: bold\"> Layer (type)                    </span>┃<span style=\"font-weight: bold\"> Output Shape           </span>┃<span style=\"font-weight: bold\">       Param # </span>┃\n",
       "┡━━━━━━━━━━━━━━━━━━━━━━━━━━━━━━━━━╇━━━━━━━━━━━━━━━━━━━━━━━━╇━━━━━━━━━━━━━━━┩\n",
       "│ embedding (<span style=\"color: #0087ff; text-decoration-color: #0087ff\">Embedding</span>)           │ (<span style=\"color: #00af00; text-decoration-color: #00af00\">64</span>, <span style=\"color: #00af00; text-decoration-color: #00af00\">128</span>, <span style=\"color: #00af00; text-decoration-color: #00af00\">50</span>)          │     <span style=\"color: #00af00; text-decoration-color: #00af00\">1,526,100</span> │\n",
       "├─────────────────────────────────┼────────────────────────┼───────────────┤\n",
       "│ conv1d (<span style=\"color: #0087ff; text-decoration-color: #0087ff\">Conv1D</span>)                 │ (<span style=\"color: #00af00; text-decoration-color: #00af00\">64</span>, <span style=\"color: #00af00; text-decoration-color: #00af00\">126</span>, <span style=\"color: #00af00; text-decoration-color: #00af00\">128</span>)         │        <span style=\"color: #00af00; text-decoration-color: #00af00\">19,328</span> │\n",
       "├─────────────────────────────────┼────────────────────────┼───────────────┤\n",
       "│ max_pooling1d (<span style=\"color: #0087ff; text-decoration-color: #0087ff\">MaxPooling1D</span>)    │ (<span style=\"color: #00af00; text-decoration-color: #00af00\">64</span>, <span style=\"color: #00af00; text-decoration-color: #00af00\">42</span>, <span style=\"color: #00af00; text-decoration-color: #00af00\">128</span>)          │             <span style=\"color: #00af00; text-decoration-color: #00af00\">0</span> │\n",
       "├─────────────────────────────────┼────────────────────────┼───────────────┤\n",
       "│ conv1d_1 (<span style=\"color: #0087ff; text-decoration-color: #0087ff\">Conv1D</span>)               │ (<span style=\"color: #00af00; text-decoration-color: #00af00\">64</span>, <span style=\"color: #00af00; text-decoration-color: #00af00\">40</span>, <span style=\"color: #00af00; text-decoration-color: #00af00\">128</span>)          │        <span style=\"color: #00af00; text-decoration-color: #00af00\">49,280</span> │\n",
       "├─────────────────────────────────┼────────────────────────┼───────────────┤\n",
       "│ max_pooling1d_1 (<span style=\"color: #0087ff; text-decoration-color: #0087ff\">MaxPooling1D</span>)  │ (<span style=\"color: #00af00; text-decoration-color: #00af00\">64</span>, <span style=\"color: #00af00; text-decoration-color: #00af00\">13</span>, <span style=\"color: #00af00; text-decoration-color: #00af00\">128</span>)          │             <span style=\"color: #00af00; text-decoration-color: #00af00\">0</span> │\n",
       "├─────────────────────────────────┼────────────────────────┼───────────────┤\n",
       "│ conv1d_2 (<span style=\"color: #0087ff; text-decoration-color: #0087ff\">Conv1D</span>)               │ (<span style=\"color: #00af00; text-decoration-color: #00af00\">64</span>, <span style=\"color: #00af00; text-decoration-color: #00af00\">11</span>, <span style=\"color: #00af00; text-decoration-color: #00af00\">128</span>)          │        <span style=\"color: #00af00; text-decoration-color: #00af00\">49,280</span> │\n",
       "├─────────────────────────────────┼────────────────────────┼───────────────┤\n",
       "│ global_max_pooling1d            │ (<span style=\"color: #00af00; text-decoration-color: #00af00\">64</span>, <span style=\"color: #00af00; text-decoration-color: #00af00\">128</span>)              │             <span style=\"color: #00af00; text-decoration-color: #00af00\">0</span> │\n",
       "│ (<span style=\"color: #0087ff; text-decoration-color: #0087ff\">GlobalMaxPooling1D</span>)            │                        │               │\n",
       "├─────────────────────────────────┼────────────────────────┼───────────────┤\n",
       "│ dense (<span style=\"color: #0087ff; text-decoration-color: #0087ff\">Dense</span>)                   │ (<span style=\"color: #00af00; text-decoration-color: #00af00\">64</span>, <span style=\"color: #00af00; text-decoration-color: #00af00\">128</span>)              │        <span style=\"color: #00af00; text-decoration-color: #00af00\">16,512</span> │\n",
       "├─────────────────────────────────┼────────────────────────┼───────────────┤\n",
       "│ dense_1 (<span style=\"color: #0087ff; text-decoration-color: #0087ff\">Dense</span>)                 │ (<span style=\"color: #00af00; text-decoration-color: #00af00\">64</span>, <span style=\"color: #00af00; text-decoration-color: #00af00\">1</span>)                │           <span style=\"color: #00af00; text-decoration-color: #00af00\">129</span> │\n",
       "└─────────────────────────────────┴────────────────────────┴───────────────┘\n",
       "</pre>\n"
      ]
     },
     "metadata": {},
     "output_type": "display_data"
    },
    {
     "data": {
      "text/plain": [
       "\u001B[1m Total params: \u001B[0m\u001B[38;5;34m4,981,889\u001B[0m (19.00 MB)\n"
      ],
      "text/html": [
       "<pre style=\"white-space:pre;overflow-x:auto;line-height:normal;font-family:Menlo,'DejaVu Sans Mono',consolas,'Courier New',monospace\"><span style=\"font-weight: bold\"> Total params: </span><span style=\"color: #00af00; text-decoration-color: #00af00\">4,981,889</span> (19.00 MB)\n",
       "</pre>\n"
      ]
     },
     "metadata": {},
     "output_type": "display_data"
    },
    {
     "data": {
      "text/plain": [
       "\u001B[1m Trainable params: \u001B[0m\u001B[38;5;34m1,660,629\u001B[0m (6.33 MB)\n"
      ],
      "text/html": [
       "<pre style=\"white-space:pre;overflow-x:auto;line-height:normal;font-family:Menlo,'DejaVu Sans Mono',consolas,'Courier New',monospace\"><span style=\"font-weight: bold\"> Trainable params: </span><span style=\"color: #00af00; text-decoration-color: #00af00\">1,660,629</span> (6.33 MB)\n",
       "</pre>\n"
      ]
     },
     "metadata": {},
     "output_type": "display_data"
    },
    {
     "data": {
      "text/plain": [
       "\u001B[1m Non-trainable params: \u001B[0m\u001B[38;5;34m0\u001B[0m (0.00 B)\n"
      ],
      "text/html": [
       "<pre style=\"white-space:pre;overflow-x:auto;line-height:normal;font-family:Menlo,'DejaVu Sans Mono',consolas,'Courier New',monospace\"><span style=\"font-weight: bold\"> Non-trainable params: </span><span style=\"color: #00af00; text-decoration-color: #00af00\">0</span> (0.00 B)\n",
       "</pre>\n"
      ]
     },
     "metadata": {},
     "output_type": "display_data"
    },
    {
     "data": {
      "text/plain": [
       "\u001B[1m Optimizer params: \u001B[0m\u001B[38;5;34m3,321,260\u001B[0m (12.67 MB)\n"
      ],
      "text/html": [
       "<pre style=\"white-space:pre;overflow-x:auto;line-height:normal;font-family:Menlo,'DejaVu Sans Mono',consolas,'Courier New',monospace\"><span style=\"font-weight: bold\"> Optimizer params: </span><span style=\"color: #00af00; text-decoration-color: #00af00\">3,321,260</span> (12.67 MB)\n",
       "</pre>\n"
      ]
     },
     "metadata": {},
     "output_type": "display_data"
    }
   ],
   "execution_count": 12
  },
  {
   "metadata": {
    "ExecuteTime": {
     "end_time": "2025-05-10T11:42:08.538583Z",
     "start_time": "2025-05-10T11:42:08.206625Z"
    }
   },
   "cell_type": "code",
   "source": [
    "# Predicting the probabilities for test data\n",
    "y_pred_prob = model.predict(X_test_encoded[\"input_ids\"])\n",
    "\n",
    "# Converting the probabilities to binary classes based on a threshold\n",
    "y_pred = (y_pred_prob > threshold).astype(int)\n",
    "\n",
    "# Calculating the evaluation metrics\n",
    "accuracy = accuracy_score(y_test, y_pred)\n",
    "precision = precision_score(y_test, y_pred)\n",
    "recall = recall_score(y_test, y_pred)\n",
    "f1 = f1_score(y_test, y_pred)\n",
    "\n",
    "# Printing the evaluation metrics\n",
    "print('Accuracy:', accuracy)\n",
    "print('Precision:', precision)\n",
    "print('Recall:', recall)\n",
    "print('F1-score:', f1)"
   ],
   "id": "b6eb3127052c65d5",
   "outputs": [
    {
     "name": "stdout",
     "output_type": "stream",
     "text": [
      "\u001B[1m63/63\u001B[0m \u001B[32m━━━━━━━━━━━━━━━━━━━━\u001B[0m\u001B[37m\u001B[0m \u001B[1m0s\u001B[0m 4ms/step\n",
      "Accuracy: 0.869\n",
      "Precision: 0.8524436090225563\n",
      "Recall: 0.8962450592885376\n",
      "F1-score: 0.873795761078998\n"
     ]
    }
   ],
   "execution_count": 13
  },
  {
   "metadata": {
    "ExecuteTime": {
     "end_time": "2025-05-10T11:42:08.558736Z",
     "start_time": "2025-05-10T11:42:08.553121Z"
    }
   },
   "cell_type": "code",
   "source": "print(classification_report(y_test, y_pred))",
   "id": "5098ba6216304234",
   "outputs": [
    {
     "name": "stdout",
     "output_type": "stream",
     "text": [
      "              precision    recall  f1-score   support\n",
      "\n",
      "           0       0.89      0.84      0.86       988\n",
      "           1       0.85      0.90      0.87      1012\n",
      "\n",
      "    accuracy                           0.87      2000\n",
      "   macro avg       0.87      0.87      0.87      2000\n",
      "weighted avg       0.87      0.87      0.87      2000\n",
      "\n"
     ]
    }
   ],
   "execution_count": 14
  },
  {
   "metadata": {
    "ExecuteTime": {
     "end_time": "2025-05-10T11:42:08.650689Z",
     "start_time": "2025-05-10T11:42:08.568045Z"
    }
   },
   "cell_type": "code",
   "source": [
    "import matplotlib.pyplot as plt\n",
    "\n",
    "plt.plot(history.history[\"accuracy\"])\n",
    "plt.plot(history.history[\"val_accuracy\"])\n",
    "plt.title(\"Model Accuracy\")\n",
    "plt.legend([\"Train\", \"Validation\"], loc=\"upper left\")"
   ],
   "id": "6e95c760596f47ff",
   "outputs": [
    {
     "data": {
      "text/plain": [
       "<matplotlib.legend.Legend at 0x364d25fd0>"
      ]
     },
     "execution_count": 15,
     "metadata": {},
     "output_type": "execute_result"
    },
    {
     "data": {
      "text/plain": [
       "<Figure size 640x480 with 1 Axes>"
      ],
      "image/png": "[encoded data removed]"
     },
     "metadata": {},
     "output_type": "display_data"
    }
   ],
   "execution_count": 15
  },
  {
   "metadata": {},
   "cell_type": "code",
   "outputs": [],
   "execution_count": null,
   "source": [
    "import json\n",
    "with open(\"result.json\", \"w\") as f:\n",
    "    json.dump(history.history, f, indent=2)"
   ],
   "id": "ff1a9736a374c18e"
  },
  {
   "metadata": {
    "ExecuteTime": {
     "end_time": "2025-05-10T12:02:28.117719Z",
     "start_time": "2025-05-10T12:02:28.114778Z"
    }
   },
   "cell_type": "code",
   "source": [
    "import json\n",
    "result = json.load(open(\"result.json\"))"
   ],
   "id": "2912e58d6010a5d9",
   "outputs": [],
   "execution_count": 18
  },
  {
   "metadata": {
    "ExecuteTime": {
     "end_time": "2025-05-10T12:02:38.189690Z",
     "start_time": "2025-05-10T12:02:38.126807Z"
    }
   },
   "cell_type": "code",
   "source": [
    "\n",
    "plt.plot(result[\"loss\"])\n",
    "plt.plot(result[\"val_loss\"])\n",
    "plt.title(\"Model Loss\")\n",
    "plt.legend([\"Train\", \"Validation\"], loc=\"upper left\")"
   ],
   "id": "eeb02d6899f7c004",
   "outputs": [
    {
     "data": {
      "text/plain": [
       "<matplotlib.legend.Legend at 0x3797e9f40>"
      ]
     },
     "execution_count": 20,
     "metadata": {},
     "output_type": "execute_result"
    },
    {
     "data": {
      "text/plain": [
       "<Figure size 640x480 with 1 Axes>"
      ],
      "image/png": "[encoded data removed]"
     },
     "metadata": {},
     "output_type": "display_data"
    }
   ],
   "execution_count": 20
  },
  {
   "metadata": {
    "ExecuteTime": {
     "end_time": "2025-05-10T12:02:54.768763Z",
     "start_time": "2025-05-10T12:02:54.706499Z"
    }
   },
   "cell_type": "code",
   "source": [
    "\n",
    "plt.plot(result[\"accuracy\"])\n",
    "plt.plot(result[\"val_accuracy\"])\n",
    "plt.title(\"Model Loss\")\n",
    "plt.legend([\"Train\", \"Validation\"], loc=\"upper left\")"
   ],
   "id": "dd01ca20e707765d",
   "outputs": [
    {
     "data": {
      "text/plain": [
       "<matplotlib.legend.Legend at 0x369252be0>"
      ]
     },
     "execution_count": 21,
     "metadata": {},
     "output_type": "execute_result"
    },
    {
     "data": {
      "text/plain": [
       "<Figure size 640x480 with 1 Axes>"
      ],
      "image/png": "[encoded data removed]"
     },
     "metadata": {},
     "output_type": "display_data"
    }
   ],
   "execution_count": 21
  },
  {
   "metadata": {},
   "cell_type": "code",
   "outputs": [],
   "execution_count": null,
   "source": "model.save(\"cnn_model_trained\")",
   "id": "6b52398499e62991"
  }
 ],
 "metadata": {
  "kernelspec": {
   "display_name": "Python 3",
   "language": "python",
   "name": "python3"
  },
  "language_info": {
   "codemirror_mode": {
    "name": "ipython",
    "version": 2
   },
   "file_extension": ".py",
   "mimetype": "text/x-python",
   "name": "python",
   "nbconvert_exporter": "python",
   "pygments_lexer": "ipython2",
   "version": "2.7.6"
  }
 },
 "nbformat": 4,
 "nbformat_minor": 5
}
